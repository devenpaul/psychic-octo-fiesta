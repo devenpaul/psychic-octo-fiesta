{
 "cells": [
  {
   "cell_type": "markdown",
   "id": "e9a4add6",
   "metadata": {},
   "source": [
    "# PROJECT B"
   ]
  },
  {
   "cell_type": "markdown",
   "id": "53ec1873",
   "metadata": {},
   "source": [
    "Step 1: Import necessary functions"
   ]
  },
  {
   "cell_type": "code",
   "execution_count": 4,
   "id": "650b6546",
   "metadata": {},
   "outputs": [],
   "source": [
    "import pandas as pd\n",
    "import matplotlib.pyplot as plt\n",
    "import numpy as np\n",
    "from numpy import random\n",
    "from sklearn.model_selection import train_test_split\n",
    "from sklearn.metrics import mean_absolute_error, r2_score, accuracy_score,  mean_absolute_percentage_error\n",
    "from sklearn.preprocessing import StandardScaler\n",
    "from sklearn import preprocessing\n",
    "from sklearn.ensemble import RandomForestClassifier"
   ]
  },
  {
   "cell_type": "markdown",
   "id": "af71a719",
   "metadata": {},
   "source": [
    "Step 2: Load all data"
   ]
  },
  {
   "cell_type": "code",
   "execution_count": 5,
   "id": "0710ff9b",
   "metadata": {},
   "outputs": [],
   "source": [
    "Perfect_1_e_5000_X = pd.read_csv(r\"C:\\Users\\deven\\Desktop\\CIE21\\Project B/Perfect_Structure_data/Perfect_structure_1_train_extreme_rack_5000N/Deformation_X_axis.csv\")\n",
    "Perfect_1_e_5000_Y = pd.read_csv(r\"C:\\Users\\deven\\Desktop\\CIE21\\Project B/Perfect_Structure_data/Perfect_structure_1_train_extreme_rack_5000N/Deformation_Y_axis.csv\")\n",
    "Perfect_1_e_5000_Z = pd.read_csv(r\"C:\\Users\\deven\\Desktop\\CIE21\\Project B/Perfect_Structure_data/Perfect_structure_1_train_extreme_rack_5000N/Deformation_Z_axis.csv\")\n",
    "Perfect_1_e_5000_XY = pd.read_csv(r\"C:\\Users\\deven\\Desktop\\CIE21\\Project B/Perfect_Structure_data/Perfect_structure_1_train_extreme_rack_5000N/Shear Stress XY.csv\")\n",
    "Perfect_1_e_5000_XZ = pd.read_csv(r\"C:\\Users\\deven\\Desktop\\CIE21\\Project B/Perfect_Structure_data/Perfect_structure_1_train_extreme_rack_5000N/Shear Stress XZ.csv\")\n",
    "Perfect_1_e_5000_YZ = pd.read_csv(r\"C:\\Users\\deven\\Desktop\\CIE21\\Project B/Perfect_Structure_data/Perfect_structure_1_train_extreme_rack_5000N/Shear Stress YZ.csv\")\n",
    "Perfect_1_e_5000_Total = pd.read_csv(r\"C:\\Users\\deven\\Desktop\\CIE21\\Project B/Perfect_Structure_data/Perfect_structure_1_train_extreme_rack_5000N/Total Deformation.csv\")\n",
    "\n",
    "Perfect_1_e_2000_X = pd.read_csv(r\"C:\\Users\\deven\\Desktop\\CIE21\\Project B/Perfect_Structure_data/Perfect_structure_1_train_extreme_track_2000N/Deformation_X_axis.csv\")\n",
    "Perfect_1_e_2000_Y = pd.read_csv(r\"C:\\Users\\deven\\Desktop\\CIE21\\Project B/Perfect_Structure_data/Perfect_structure_1_train_extreme_track_2000N/Deformation_Y_axis.csv\")\n",
    "Perfect_1_e_2000_Z = pd.read_csv(r\"C:\\Users\\deven\\Desktop\\CIE21\\Project B/Perfect_Structure_data/Perfect_structure_1_train_extreme_track_2000N/Deformation_Z_axis.csv\")\n",
    "Perfect_1_e_2000_XY = pd.read_csv(r\"C:\\Users\\deven\\Desktop\\CIE21\\Project B/Perfect_Structure_data/Perfect_structure_1_train_extreme_track_2000N/Shear Stress XY.csv\")\n",
    "Perfect_1_e_2000_XZ = pd.read_csv(r\"C:\\Users\\deven\\Desktop\\CIE21\\Project B/Perfect_Structure_data/Perfect_structure_1_train_extreme_track_2000N/Shear Stress XZ.csv\")\n",
    "Perfect_1_e_2000_YZ = pd.read_csv(r\"C:\\Users\\deven\\Desktop\\CIE21\\Project B/Perfect_Structure_data/Perfect_structure_1_train_extreme_track_2000N/Shear Stress YZ.csv\")\n",
    "Perfect_1_e_2000_Total = pd.read_csv(r\"C:\\Users\\deven\\Desktop\\CIE21\\Project B/Perfect_Structure_data/Perfect_structure_1_train_extreme_track_2000N/Total Deformation.csv\")\n",
    "\n",
    "Perfect_1_m_2000_X = pd.read_csv(r\"C:\\Users\\deven\\Desktop\\CIE21\\Project B/Perfect_Structure_data/Perfect_structure_1_train_middle_track_2000N/Deformation_X_axis.csv\")\n",
    "Perfect_1_m_2000_Y = pd.read_csv(r\"C:\\Users\\deven\\Desktop\\CIE21\\Project B/Perfect_Structure_data/Perfect_structure_1_train_middle_track_2000N/Deformation_Y_axis.csv\")\n",
    "Perfect_1_m_2000_Z = pd.read_csv(r\"C:\\Users\\deven\\Desktop\\CIE21\\Project B/Perfect_Structure_data/Perfect_structure_1_train_middle_track_2000N/Deformation_Z_axis.csv\")\n",
    "Perfect_1_m_2000_XY = pd.read_csv(r\"C:\\Users\\deven\\Desktop\\CIE21\\Project B/Perfect_Structure_data/Perfect_structure_1_train_middle_track_2000N/Shear Stress XY.csv\")\n",
    "Perfect_1_m_2000_XZ = pd.read_csv(r\"C:\\Users\\deven\\Desktop\\CIE21\\Project B/Perfect_Structure_data/Perfect_structure_1_train_middle_track_2000N/Shear Stress XZ.csv\")\n",
    "Perfect_1_m_2000_YZ = pd.read_csv(r\"C:\\Users\\deven\\Desktop\\CIE21\\Project B/Perfect_Structure_data/Perfect_structure_1_train_middle_track_2000N/Shear Stress YZ.csv\")\n",
    "Perfect_1_m_2000_Total = pd.read_csv(r\"C:\\Users\\deven\\Desktop\\CIE21\\Project B/Perfect_Structure_data/Perfect_structure_1_train_middle_track_2000N/Total Deformation.csv\")\n",
    "\n",
    "Perfect_2_o_e_2000_X = pd.read_csv(r\"C:\\Users\\deven\\Desktop\\CIE21\\Project B/Perfect_Structure_data/Perfect_structure_2_trains_opposite_direction_extreme_tracks_2000N/Deformation_X_axis.csv\")\n",
    "Perfect_2_o_e_2000_Y = pd.read_csv(r\"C:\\Users\\deven\\Desktop\\CIE21\\Project B/Perfect_Structure_data/Perfect_structure_2_trains_opposite_direction_extreme_tracks_2000N/Deformation_Y_axis.csv\")\n",
    "Perfect_2_o_e_2000_Z = pd.read_csv(r\"C:\\Users\\deven\\Desktop\\CIE21\\Project B/Perfect_Structure_data/Perfect_structure_2_trains_opposite_direction_extreme_tracks_2000N/Deformation_Z_axis.csv\")\n",
    "Perfect_2_o_e_2000_XY = pd.read_csv(r\"C:\\Users\\deven\\Desktop\\CIE21\\Project B/Perfect_Structure_data/Perfect_structure_2_trains_opposite_direction_extreme_tracks_2000N/Shear Stress XY.csv\")\n",
    "Perfect_2_o_e_2000_XZ = pd.read_csv(r\"C:\\Users\\deven\\Desktop\\CIE21\\Project B/Perfect_Structure_data/Perfect_structure_2_trains_opposite_direction_extreme_tracks_2000N/Shear Stress XZ.csv\")\n",
    "Perfect_2_o_e_2000_YZ = pd.read_csv(r\"C:\\Users\\deven\\Desktop\\CIE21\\Project B/Perfect_Structure_data/Perfect_structure_2_trains_opposite_direction_extreme_tracks_2000N/Shear Stress YZ.csv\")\n",
    "Perfect_2_o_e_2000_Total = pd.read_csv(r\"C:\\Users\\deven\\Desktop\\CIE21\\Project B/Perfect_Structure_data/Perfect_structure_2_trains_opposite_direction_extreme_tracks_2000N/Total_deformation.csv\")\n",
    "\n",
    "Imperfect_1_1_e_2000_X = pd.read_csv(r\"C:\\Users\\deven\\Desktop\\CIE21\\Project B/Imperfect_structure_Data/Imperfect_no_1_1_train_extreme_track_2000N/Deformation_X_axis.csv\")\n",
    "Imperfect_1_1_e_2000_Y = pd.read_csv(r\"C:\\Users\\deven\\Desktop\\CIE21\\Project B/Imperfect_structure_Data/Imperfect_no_1_1_train_extreme_track_2000N/Deformation_Y_axis.csv\")\n",
    "Imperfect_1_1_e_2000_Z = pd.read_csv(r\"C:\\Users\\deven\\Desktop\\CIE21\\Project B/Imperfect_structure_Data/Imperfect_no_1_1_train_extreme_track_2000N/Deformation_Z_axis.csv\")\n",
    "Imperfect_1_1_e_2000_XY = pd.read_csv(r\"C:\\Users\\deven\\Desktop\\CIE21\\Project B/Imperfect_structure_Data/Imperfect_no_1_1_train_extreme_track_2000N/Shear Stress XY.csv\")\n",
    "Imperfect_1_1_e_2000_XZ = pd.read_csv(r\"C:\\Users\\deven\\Desktop\\CIE21\\Project B/Imperfect_structure_Data/Imperfect_no_1_1_train_extreme_track_2000N/Shear Stress XZ.csv\")\n",
    "Imperfect_1_1_e_2000_YZ = pd.read_csv(r\"C:\\Users\\deven\\Desktop\\CIE21\\Project B/Imperfect_structure_Data/Imperfect_no_1_1_train_extreme_track_2000N/Shear Stress YZ.csv\")\n",
    "Imperfect_1_1_e_2000_Total = pd.read_csv(r\"C:\\Users\\deven\\Desktop\\CIE21\\Project B/Imperfect_structure_Data/Imperfect_no_1_1_train_extreme_track_2000N/Total Deformation.csv\")\n",
    "\n",
    "Imperfect_1_1_e_5000_X = pd.read_csv(r\"C:\\Users\\deven\\Desktop\\CIE21\\Project B/Imperfect_structure_Data/Imperfect_no_1_1_train_extreme_track_5000N/Deformation_X_axis.csv\")\n",
    "Imperfect_1_1_e_5000_Y = pd.read_csv(r\"C:\\Users\\deven\\Desktop\\CIE21\\Project B/Imperfect_structure_Data/Imperfect_no_1_1_train_extreme_track_5000N/Deformation_Y_axis.csv\")\n",
    "Imperfect_1_1_e_5000_Z = pd.read_csv(r\"C:\\Users\\deven\\Desktop\\CIE21\\Project B/Imperfect_structure_Data/Imperfect_no_1_1_train_extreme_track_5000N/Deformation_Z_axis.csv\")\n",
    "Imperfect_1_1_e_5000_XY = pd.read_csv(r\"C:\\Users\\deven\\Desktop\\CIE21\\Project B/Imperfect_structure_Data/Imperfect_no_1_1_train_extreme_track_5000N/Shear Stress XY.csv\")\n",
    "Imperfect_1_1_e_5000_XZ = pd.read_csv(r\"C:\\Users\\deven\\Desktop\\CIE21\\Project B/Imperfect_structure_Data/Imperfect_no_1_1_train_extreme_track_5000N/Shear Stress XZ.csv\")\n",
    "Imperfect_1_1_e_5000_YZ = pd.read_csv(r\"C:\\Users\\deven\\Desktop\\CIE21\\Project B/Imperfect_structure_Data/Imperfect_no_1_1_train_extreme_track_5000N/Shear Stress YZ.csv\")\n",
    "Imperfect_1_1_e_5000_Total = pd.read_csv(r\"C:\\Users\\deven\\Desktop\\CIE21\\Project B/Imperfect_structure_Data/Imperfect_no_1_1_train_extreme_track_5000N/Total Deformation.csv\")\n",
    "\n",
    "Imperfect_1_2_o_e_2000_X = pd.read_csv(r\"C:\\Users\\deven\\Desktop\\CIE21\\Project B/Imperfect_structure_Data/Imperfect_no_1_2_trains_opposite_direction_extreme_track_2000N/Deformation_X_axis.csv\")\n",
    "Imperfect_1_2_o_e_2000_Y = pd.read_csv(r\"C:\\Users\\deven\\Desktop\\CIE21\\Project B/Imperfect_structure_Data/Imperfect_no_1_2_trains_opposite_direction_extreme_track_2000N/Deformation_Y_axis.csv\")\n",
    "Imperfect_1_2_o_e_2000_Z = pd.read_csv(r\"C:\\Users\\deven\\Desktop\\CIE21\\Project B/Imperfect_structure_Data/Imperfect_no_1_2_trains_opposite_direction_extreme_track_2000N/Deformation_Z_axis.csv\")\n",
    "Imperfect_1_2_o_e_2000_XY = pd.read_csv(r\"C:\\Users\\deven\\Desktop\\CIE21\\Project B/Imperfect_structure_Data/Imperfect_no_1_2_trains_opposite_direction_extreme_track_2000N/Shear Stress XY.csv\")\n",
    "Imperfect_1_2_o_e_2000_XZ = pd.read_csv(r\"C:\\Users\\deven\\Desktop\\CIE21\\Project B/Imperfect_structure_Data/Imperfect_no_1_2_trains_opposite_direction_extreme_track_2000N/Shear Stress XZ.csv\")\n",
    "Imperfect_1_2_o_e_2000_YZ = pd.read_csv(r\"C:\\Users\\deven\\Desktop\\CIE21\\Project B/Imperfect_structure_Data/Imperfect_no_1_2_trains_opposite_direction_extreme_track_2000N/Shear Stress YZ.csv\")\n",
    "Imperfect_1_2_o_e_2000_Total = pd.read_csv(r\"C:\\Users\\deven\\Desktop\\CIE21\\Project B/Imperfect_structure_Data/Imperfect_no_1_2_trains_opposite_direction_extreme_track_2000N/Total Deformation.csv\")\n",
    "\n",
    "Imperfect_2_1_e_2000_X = pd.read_csv(r\"C:\\Users\\deven\\Desktop\\CIE21\\Project B/Imperfect_structure_Data/Imperfect_no_2_1_train_extreme_track_2000N/Deformation_X_axis.csv\")\n",
    "Imperfect_2_1_e_2000_Y = pd.read_csv(r\"C:\\Users\\deven\\Desktop\\CIE21\\Project B/Imperfect_structure_Data/Imperfect_no_2_1_train_extreme_track_2000N/Deformation_Y_axis.csv\")\n",
    "Imperfect_2_1_e_2000_Z = pd.read_csv(r\"C:\\Users\\deven\\Desktop\\CIE21\\Project B/Imperfect_structure_Data/Imperfect_no_2_1_train_extreme_track_2000N/Deformation_Z_axis.csv\")\n",
    "Imperfect_2_1_e_2000_XY = pd.read_csv(r\"C:\\Users\\deven\\Desktop\\CIE21\\Project B/Imperfect_structure_Data/Imperfect_no_2_1_train_extreme_track_2000N/Shear Stress XY.csv\")\n",
    "Imperfect_2_1_e_2000_XZ = pd.read_csv(r\"C:\\Users\\deven\\Desktop\\CIE21\\Project B/Imperfect_structure_Data/Imperfect_no_2_1_train_extreme_track_2000N/Shear Stress XZ.csv\")\n",
    "Imperfect_2_1_e_2000_YZ = pd.read_csv(r\"C:\\Users\\deven\\Desktop\\CIE21\\Project B/Imperfect_structure_Data/Imperfect_no_2_1_train_extreme_track_2000N/Shear Stress YZ.csv\")\n",
    "Imperfect_2_1_e_2000_Total = pd.read_csv(r\"C:\\Users\\deven\\Desktop\\CIE21\\Project B/Imperfect_structure_Data/Imperfect_no_2_1_train_extreme_track_2000N/Total Deformation.csv\")\n",
    "\n",
    "Imperfect_2_1_e_5000_X = pd.read_csv(r\"C:\\Users\\deven\\Desktop\\CIE21\\Project B/Imperfect_structure_Data/imperfect_no_2_1_train_extreme_Track_5000N/Deformation_X_axis.csv\")\n",
    "Imperfect_2_1_e_5000_Y = pd.read_csv(r\"C:\\Users\\deven\\Desktop\\CIE21\\Project B/Imperfect_structure_Data/imperfect_no_2_1_train_extreme_Track_5000N/Deformation_Y_axis.csv\")\n",
    "Imperfect_2_1_e_5000_Z = pd.read_csv(r\"C:\\Users\\deven\\Desktop\\CIE21\\Project B/Imperfect_structure_Data/imperfect_no_2_1_train_extreme_Track_5000N/Deformation_Z_axis.csv\")\n",
    "Imperfect_2_1_e_5000_XY = pd.read_csv(r\"C:\\Users\\deven\\Desktop\\CIE21\\Project B/Imperfect_structure_Data/imperfect_no_2_1_train_extreme_Track_5000N/Shear Stress XY.csv\")\n",
    "Imperfect_2_1_e_5000_XZ = pd.read_csv(r\"C:\\Users\\deven\\Desktop\\CIE21\\Project B/Imperfect_structure_Data/imperfect_no_2_1_train_extreme_Track_5000N/Shear Stress XZ.csv\")\n",
    "Imperfect_2_1_e_5000_YZ = pd.read_csv(r\"C:\\Users\\deven\\Desktop\\CIE21\\Project B/Imperfect_structure_Data/imperfect_no_2_1_train_extreme_Track_5000N/Shear Stress YZ.csv\")\n",
    "Imperfect_2_1_e_5000_Total = pd.read_csv(r\"C:\\Users\\deven\\Desktop\\CIE21\\Project B/Imperfect_structure_Data/imperfect_no_2_1_train_extreme_Track_5000N/Total Deformation.csv\")\n",
    "\n",
    "Imperfect_2_2_o_e_2000_X = pd.read_csv(r\"C:\\Users\\deven\\Desktop\\CIE21\\Project B/Imperfect_structure_Data/Imperfect_no_2_2_trains_opposite_direction_Extreme_tracks_2000N/Deformation_X_axis.csv\")\n",
    "Imperfect_2_2_o_e_2000_Y = pd.read_csv(r\"C:\\Users\\deven\\Desktop\\CIE21\\Project B/Imperfect_structure_Data/Imperfect_no_2_2_trains_opposite_direction_Extreme_tracks_2000N/Deformation_Y_axis.csv\")\n",
    "Imperfect_2_2_o_e_2000_Z = pd.read_csv(r\"C:\\Users\\deven\\Desktop\\CIE21\\Project B/Imperfect_structure_Data/Imperfect_no_2_2_trains_opposite_direction_Extreme_tracks_2000N/Deformation_Z_axis.csv\")\n",
    "Imperfect_2_2_o_e_2000_XY = pd.read_csv(r\"C:\\Users\\deven\\Desktop\\CIE21\\Project B/Imperfect_structure_Data/Imperfect_no_2_2_trains_opposite_direction_Extreme_tracks_2000N/Shear Stress XY.csv\")\n",
    "Imperfect_2_2_o_e_2000_XZ = pd.read_csv(r\"C:\\Users\\deven\\Desktop\\CIE21\\Project B/Imperfect_structure_Data/Imperfect_no_2_2_trains_opposite_direction_Extreme_tracks_2000N/Shear Stress XZ.csv\")\n",
    "Imperfect_2_2_o_e_2000_YZ = pd.read_csv(r\"C:\\Users\\deven\\Desktop\\CIE21\\Project B/Imperfect_structure_Data/Imperfect_no_2_2_trains_opposite_direction_Extreme_tracks_2000N/Shear Stress YZ.csv\")\n",
    "Imperfect_2_2_o_e_2000_Total = pd.read_csv(r\"C:\\Users\\deven\\Desktop\\CIE21\\Project B/Imperfect_structure_Data/Imperfect_no_2_2_trains_opposite_direction_Extreme_tracks_2000N/Total Deformation.csv\")\n",
    "\n",
    "Imperfect_3_1_e_2000_X = pd.read_csv(r\"C:\\Users\\deven\\Desktop\\CIE21\\Project B/Imperfect_structure_Data/Imperfect_no_3_1_train_extreme_track_2000N/Deformation_X_axis.csv\")\n",
    "Imperfect_3_1_e_2000_Y = pd.read_csv(r\"C:\\Users\\deven\\Desktop\\CIE21\\Project B/Imperfect_structure_Data/Imperfect_no_3_1_train_extreme_track_2000N/Deformation_Y_axis.csv\")\n",
    "Imperfect_3_1_e_2000_Z = pd.read_csv(r\"C:\\Users\\deven\\Desktop\\CIE21\\Project B/Imperfect_structure_Data/Imperfect_no_3_1_train_extreme_track_2000N/Deformation_Z_axis.csv\")\n",
    "Imperfect_3_1_e_2000_XY = pd.read_csv(r\"C:\\Users\\deven\\Desktop\\CIE21\\Project B/Imperfect_structure_Data/Imperfect_no_3_1_train_extreme_track_2000N/Shear Stress XY.csv\")\n",
    "Imperfect_3_1_e_2000_XZ = pd.read_csv(r\"C:\\Users\\deven\\Desktop\\CIE21\\Project B/Imperfect_structure_Data/Imperfect_no_3_1_train_extreme_track_2000N/Shear Stress XZ.csv\")\n",
    "Imperfect_3_1_e_2000_YZ = pd.read_csv(r\"C:\\Users\\deven\\Desktop\\CIE21\\Project B/Imperfect_structure_Data/Imperfect_no_3_1_train_extreme_track_2000N/Shear Stress YZ.csv\")\n",
    "Imperfect_3_1_e_2000_Total = pd.read_csv(r\"C:\\Users\\deven\\Desktop\\CIE21\\Project B/Imperfect_structure_Data/Imperfect_no_3_1_train_extreme_track_2000N/Total Deformation.csv\")\n",
    "\n",
    "Imperfect_3_1_e_5000_X = pd.read_csv(r\"C:\\Users\\deven\\Desktop\\CIE21\\Project B/Imperfect_structure_Data/imperfect_no_3_1_train_extreme_track_5000N/Deformation_X_axis.csv\")\n",
    "Imperfect_3_1_e_5000_Y = pd.read_csv(r\"C:\\Users\\deven\\Desktop\\CIE21\\Project B/Imperfect_structure_Data/imperfect_no_3_1_train_extreme_track_5000N/Deformation_Y_axis.csv\")\n",
    "Imperfect_3_1_e_5000_Z = pd.read_csv(r\"C:\\Users\\deven\\Desktop\\CIE21\\Project B/Imperfect_structure_Data/imperfect_no_3_1_train_extreme_track_5000N/Deformation_Z_axis.csv\")\n",
    "Imperfect_3_1_e_5000_XY = pd.read_csv(r\"C:\\Users\\deven\\Desktop\\CIE21\\Project B/Imperfect_structure_Data/imperfect_no_3_1_train_extreme_track_5000N/Shear Stress XY.csv\")\n",
    "Imperfect_3_1_e_5000_XZ = pd.read_csv(r\"C:\\Users\\deven\\Desktop\\CIE21\\Project B/Imperfect_structure_Data/imperfect_no_3_1_train_extreme_track_5000N/Shear Stress XZ.csv\")\n",
    "Imperfect_3_1_e_5000_YZ = pd.read_csv(r\"C:\\Users\\deven\\Desktop\\CIE21\\Project B/Imperfect_structure_Data/imperfect_no_3_1_train_extreme_track_5000N/Shear Stress YZ.csv\")\n",
    "Imperfect_3_1_e_5000_Total = pd.read_csv(r\"C:\\Users\\deven\\Desktop\\CIE21\\Project B/Imperfect_structure_Data/imperfect_no_3_1_train_extreme_track_5000N/Total Deformation.csv\")\n",
    "\n",
    "Imperfect_3_2_o_e_2000_X = pd.read_csv(r\"C:\\Users\\deven\\Desktop\\CIE21\\Project B/Imperfect_structure_Data/Imperfect_no_3_2_trains_opposite_direction_extreme_tracks_2000N/Deformation_X_axis.csv\")\n",
    "Imperfect_3_2_o_e_2000_Y = pd.read_csv(r\"C:\\Users\\deven\\Desktop\\CIE21\\Project B/Imperfect_structure_Data/Imperfect_no_3_2_trains_opposite_direction_extreme_tracks_2000N/Deformation_Y_axis.csv\")\n",
    "Imperfect_3_2_o_e_2000_Z = pd.read_csv(r\"C:\\Users\\deven\\Desktop\\CIE21\\Project B/Imperfect_structure_Data/Imperfect_no_3_2_trains_opposite_direction_extreme_tracks_2000N/Deformation_Z_axis.csv\")\n",
    "Imperfect_3_2_o_e_2000_XY = pd.read_csv(r\"C:\\Users\\deven\\Desktop\\CIE21\\Project B/Imperfect_structure_Data/Imperfect_no_3_2_trains_opposite_direction_extreme_tracks_2000N/Shear Stress XY.csv\")\n",
    "Imperfect_3_2_o_e_2000_XZ = pd.read_csv(r\"C:\\Users\\deven\\Desktop\\CIE21\\Project B/Imperfect_structure_Data/Imperfect_no_3_2_trains_opposite_direction_extreme_tracks_2000N/Shear Stress XZ.csv\")\n",
    "Imperfect_3_2_o_e_2000_YZ = pd.read_csv(r\"C:\\Users\\deven\\Desktop\\CIE21\\Project B/Imperfect_structure_Data/Imperfect_no_3_2_trains_opposite_direction_extreme_tracks_2000N/Shear Stress YZ.csv\")\n",
    "Imperfect_3_2_o_e_2000_Total = pd.read_csv(r\"C:\\Users\\deven\\Desktop\\CIE21\\Project B/Imperfect_structure_Data/Imperfect_no_3_2_trains_opposite_direction_extreme_tracks_2000N/Total Deformation.csv\")\n",
    "\n",
    "Imperfect_4_1_e_2000_X = pd.read_csv(r\"C:\\Users\\deven\\Desktop\\CIE21\\Project B/Imperfect_structure_Data/imperfect_no_4_1_train_extreme_track_2000N/Deformation_X_axis.csv\")\n",
    "Imperfect_4_1_e_2000_Y = pd.read_csv(r\"C:\\Users\\deven\\Desktop\\CIE21\\Project B/Imperfect_structure_Data/imperfect_no_4_1_train_extreme_track_2000N/Deformation_Y_axis.csv\")\n",
    "Imperfect_4_1_e_2000_Z = pd.read_csv(r\"C:\\Users\\deven\\Desktop\\CIE21\\Project B/Imperfect_structure_Data/imperfect_no_4_1_train_extreme_track_2000N/Deformation_Z_axis.csv\")\n",
    "Imperfect_4_1_e_2000_XY = pd.read_csv(r\"C:\\Users\\deven\\Desktop\\CIE21\\Project B/Imperfect_structure_Data/imperfect_no_4_1_train_extreme_track_2000N/Shear Stress XY.csv\")\n",
    "Imperfect_4_1_e_2000_XZ = pd.read_csv(r\"C:\\Users\\deven\\Desktop\\CIE21\\Project B/Imperfect_structure_Data/imperfect_no_4_1_train_extreme_track_2000N/Shear Stress XZ.csv\")\n",
    "Imperfect_4_1_e_2000_YZ = pd.read_csv(r\"C:\\Users\\deven\\Desktop\\CIE21\\Project B/Imperfect_structure_Data/imperfect_no_4_1_train_extreme_track_2000N/Shear Stress YZ.csv\")\n",
    "Imperfect_4_1_e_2000_Total = pd.read_csv(r\"C:\\Users\\deven\\Desktop\\CIE21\\Project B/Imperfect_structure_Data/imperfect_no_4_1_train_extreme_track_2000N/Total Deformation.csv\")\n",
    "\n",
    "Imperfect_4_1_e_5000_X = pd.read_csv(r\"C:\\Users\\deven\\Desktop\\CIE21\\Project B/Imperfect_structure_Data/imperfect_no_4_1_train_extreme_track_5000N/Deformation_X_axis.csv\")\n",
    "Imperfect_4_1_e_5000_Y = pd.read_csv(r\"C:\\Users\\deven\\Desktop\\CIE21\\Project B/Imperfect_structure_Data/imperfect_no_4_1_train_extreme_track_5000N/Deformation_Y_axis.csv\")\n",
    "Imperfect_4_1_e_5000_Z = pd.read_csv(r\"C:\\Users\\deven\\Desktop\\CIE21\\Project B/Imperfect_structure_Data/imperfect_no_4_1_train_extreme_track_5000N/Deformation_Z_axis.csv\")\n",
    "Imperfect_4_1_e_5000_XY = pd.read_csv(r\"C:\\Users\\deven\\Desktop\\CIE21\\Project B/Imperfect_structure_Data/imperfect_no_4_1_train_extreme_track_5000N/Shear Stress XY.csv\")\n",
    "Imperfect_4_1_e_5000_XZ = pd.read_csv(r\"C:\\Users\\deven\\Desktop\\CIE21\\Project B/Imperfect_structure_Data/imperfect_no_4_1_train_extreme_track_5000N/Shear Stress XZ.csv\")\n",
    "Imperfect_4_1_e_5000_YZ = pd.read_csv(r\"C:\\Users\\deven\\Desktop\\CIE21\\Project B/Imperfect_structure_Data/imperfect_no_4_1_train_extreme_track_5000N/Shear Stress YZ.csv\")\n",
    "Imperfect_4_1_e_5000_Total = pd.read_csv(r\"C:\\Users\\deven\\Desktop\\CIE21\\Project B/Imperfect_structure_Data/imperfect_no_4_1_train_extreme_track_5000N/Total Deformation.csv\")\n",
    "\n",
    "Imperfect_4_2_o_e_2000_X = pd.read_csv(r\"C:\\Users\\deven\\Desktop\\CIE21\\Project B/Imperfect_structure_Data/Imperfect_no_4_2_trains_opposite_direction_extreme_tracks_2000N/Deformation_X_axis.csv\")\n",
    "Imperfect_4_2_o_e_2000_Y = pd.read_csv(r\"C:\\Users\\deven\\Desktop\\CIE21\\Project B/Imperfect_structure_Data/Imperfect_no_4_2_trains_opposite_direction_extreme_tracks_2000N/Deformation_Y_axis.csv\")\n",
    "Imperfect_4_2_o_e_2000_Z = pd.read_csv(r\"C:\\Users\\deven\\Desktop\\CIE21\\Project B/Imperfect_structure_Data/Imperfect_no_4_2_trains_opposite_direction_extreme_tracks_2000N/Deformation_Z_axis.csv\")\n",
    "Imperfect_4_2_o_e_2000_XY = pd.read_csv(r\"C:\\Users\\deven\\Desktop\\CIE21\\Project B/Imperfect_structure_Data/Imperfect_no_4_2_trains_opposite_direction_extreme_tracks_2000N/Shear Stress XY.csv\")\n",
    "Imperfect_4_2_o_e_2000_XZ = pd.read_csv(r\"C:\\Users\\deven\\Desktop\\CIE21\\Project B/Imperfect_structure_Data/Imperfect_no_4_2_trains_opposite_direction_extreme_tracks_2000N/Shear Stress XZ.csv\")\n",
    "Imperfect_4_2_o_e_2000_YZ = pd.read_csv(r\"C:\\Users\\deven\\Desktop\\CIE21\\Project B/Imperfect_structure_Data/Imperfect_no_4_2_trains_opposite_direction_extreme_tracks_2000N/Shear Stress YZ.csv\")\n",
    "Imperfect_4_2_o_e_2000_Total = pd.read_csv(r\"C:\\Users\\deven\\Desktop\\CIE21\\Project B/Imperfect_structure_Data/Imperfect_no_4_2_trains_opposite_direction_extreme_tracks_2000N/Total Deformation.csv\")\n",
    "\n",
    "Imperfect_2_1_e_2000_X = pd.read_csv(r\"C:\\Users\\deven\\Desktop\\CIE21\\Project B/Imperfect_structure_Data/Imperfect_no_2_1_train_extreme_track_2000N/Deformation_X_axis.csv\")\n",
    "Imperfect_2_1_e_2000_Y = pd.read_csv(r\"C:\\Users\\deven\\Desktop\\CIE21\\Project B/Imperfect_structure_Data/Imperfect_no_2_1_train_extreme_track_2000N/Deformation_Y_axis.csv\")\n",
    "Imperfect_2_1_e_2000_Z = pd.read_csv(r\"C:\\Users\\deven\\Desktop\\CIE21\\Project B/Imperfect_structure_Data/Imperfect_no_2_1_train_extreme_track_2000N/Deformation_Z_axis.csv\")\n",
    "Imperfect_2_1_e_2000_XY = pd.read_csv(r\"C:\\Users\\deven\\Desktop\\CIE21\\Project B/Imperfect_structure_Data/Imperfect_no_2_1_train_extreme_track_2000N/Shear Stress XY.csv\")\n",
    "Imperfect_2_1_e_2000_XZ = pd.read_csv(r\"C:\\Users\\deven\\Desktop\\CIE21\\Project B/Imperfect_structure_Data/Imperfect_no_2_1_train_extreme_track_2000N/Shear Stress XZ.csv\")\n",
    "Imperfect_2_1_e_2000_YZ = pd.read_csv(r\"C:\\Users\\deven\\Desktop\\CIE21\\Project B/Imperfect_structure_Data/Imperfect_no_2_1_train_extreme_track_2000N/Shear Stress YZ.csv\")\n",
    "Imperfect_2_1_e_2000_Total = pd.read_csv(r\"C:\\Users\\deven\\Desktop\\CIE21\\Project B/Imperfect_structure_Data/Imperfect_no_2_1_train_extreme_track_2000N/Total Deformation.csv\")\n",
    "\n",
    "Imperfect_2_1_e_5000_X = pd.read_csv(r\"C:\\Users\\deven\\Desktop\\CIE21\\Project B/Imperfect_structure_Data/imperfect_no_2_1_train_extreme_Track_5000N/Deformation_X_axis.csv\")\n",
    "Imperfect_2_1_e_5000_Y = pd.read_csv(r\"C:\\Users\\deven\\Desktop\\CIE21\\Project B/Imperfect_structure_Data/imperfect_no_2_1_train_extreme_Track_5000N/Deformation_Y_axis.csv\")\n",
    "Imperfect_2_1_e_5000_Z = pd.read_csv(r\"C:\\Users\\deven\\Desktop\\CIE21\\Project B/Imperfect_structure_Data/imperfect_no_2_1_train_extreme_Track_5000N/Deformation_Z_axis.csv\")\n",
    "Imperfect_2_1_e_5000_XY = pd.read_csv(r\"C:\\Users\\deven\\Desktop\\CIE21\\Project B/Imperfect_structure_Data/imperfect_no_2_1_train_extreme_Track_5000N/Shear Stress XY.csv\")\n",
    "Imperfect_2_1_e_5000_XZ = pd.read_csv(r\"C:\\Users\\deven\\Desktop\\CIE21\\Project B/Imperfect_structure_Data/imperfect_no_2_1_train_extreme_Track_5000N/Shear Stress XZ.csv\")\n",
    "Imperfect_2_1_e_5000_YZ = pd.read_csv(r\"C:\\Users\\deven\\Desktop\\CIE21\\Project B/Imperfect_structure_Data/imperfect_no_2_1_train_extreme_Track_5000N/Shear Stress YZ.csv\")\n",
    "Imperfect_2_1_e_5000_Total = pd.read_csv(r\"C:\\Users\\deven\\Desktop\\CIE21\\Project B/Imperfect_structure_Data/imperfect_no_2_1_train_extreme_Track_5000N/Total Deformation.csv\")\n",
    "\n",
    "Imperfect_5_1_e_2000_X = pd.read_csv(r\"C:\\Users\\deven\\Desktop\\CIE21\\Project B/Imperfect_structure_Data/imperfect_no_5_1_train_extreme_track_2000N/Deformation_X_axis.csv\")\n",
    "Imperfect_5_1_e_2000_Y = pd.read_csv(r\"C:\\Users\\deven\\Desktop\\CIE21\\Project B/Imperfect_structure_Data/imperfect_no_5_1_train_extreme_track_2000N/Deformation_Y_axis.csv\")\n",
    "Imperfect_5_1_e_2000_Z = pd.read_csv(r\"C:\\Users\\deven\\Desktop\\CIE21\\Project B/Imperfect_structure_Data/imperfect_no_5_1_train_extreme_track_2000N/Deformation_Z_axis.csv\")\n",
    "Imperfect_5_1_e_2000_XY = pd.read_csv(r\"C:\\Users\\deven\\Desktop\\CIE21\\Project B/Imperfect_structure_Data/imperfect_no_5_1_train_extreme_track_2000N/Shear Stress XY.csv\")\n",
    "Imperfect_5_1_e_2000_XZ = pd.read_csv(r\"C:\\Users\\deven\\Desktop\\CIE21\\Project B/Imperfect_structure_Data/imperfect_no_5_1_train_extreme_track_2000N/Shear Stress XZ.csv\")\n",
    "Imperfect_5_1_e_2000_YZ = pd.read_csv(r\"C:\\Users\\deven\\Desktop\\CIE21\\Project B/Imperfect_structure_Data/imperfect_no_5_1_train_extreme_track_2000N/Shear Stress YZ.csv\")\n",
    "Imperfect_5_1_e_2000_Total = pd.read_csv(r\"C:\\Users\\deven\\Desktop\\CIE21\\Project B/Imperfect_structure_Data/imperfect_no_5_1_train_extreme_track_2000N/Total Deformation.csv\")\n",
    "\n",
    "Imperfect_5_1_e_5000_X = pd.read_csv(r\"C:\\Users\\deven\\Desktop\\CIE21\\Project B/Imperfect_structure_Data/imperfect_no_5_1_train_extreme_track_5000N/Deformation_X_axis.csv\")\n",
    "Imperfect_5_1_e_5000_Y = pd.read_csv(r\"C:\\Users\\deven\\Desktop\\CIE21\\Project B/Imperfect_structure_Data/imperfect_no_5_1_train_extreme_track_5000N/Deformation_Y_axis.csv\")\n",
    "Imperfect_5_1_e_5000_Z = pd.read_csv(r\"C:\\Users\\deven\\Desktop\\CIE21\\Project B/Imperfect_structure_Data/imperfect_no_5_1_train_extreme_track_5000N/Deformation_Z_axis.csv\")\n",
    "Imperfect_5_1_e_5000_XY = pd.read_csv(r\"C:\\Users\\deven\\Desktop\\CIE21\\Project B/Imperfect_structure_Data/imperfect_no_5_1_train_extreme_track_5000N/Shear Stress XY.csv\")\n",
    "Imperfect_5_1_e_5000_XZ = pd.read_csv(r\"C:\\Users\\deven\\Desktop\\CIE21\\Project B/Imperfect_structure_Data/imperfect_no_5_1_train_extreme_track_5000N/Shear Stress XZ.csv\")\n",
    "Imperfect_5_1_e_5000_YZ = pd.read_csv(r\"C:\\Users\\deven\\Desktop\\CIE21\\Project B/Imperfect_structure_Data/imperfect_no_5_1_train_extreme_track_5000N/Shear Stress YZ.csv\")\n",
    "Imperfect_5_1_e_5000_Total = pd.read_csv(r\"C:\\Users\\deven\\Desktop\\CIE21\\Project B/Imperfect_structure_Data/imperfect_no_5_1_train_extreme_track_5000N/Total Deformation.csv\")\n",
    "\n",
    "Imperfect_5_2_o_e_2000_X = pd.read_csv(r\"C:\\Users\\deven\\Desktop\\CIE21\\Project B/Imperfect_structure_Data/Imperfect_no_5_2_trains_opposite_direction_extreme_tracks_2000N/Deformation_X_axis.csv\")\n",
    "Imperfect_5_2_o_e_2000_Y = pd.read_csv(r\"C:\\Users\\deven\\Desktop\\CIE21\\Project B/Imperfect_structure_Data/Imperfect_no_5_2_trains_opposite_direction_extreme_tracks_2000N/Deformation_Y_axis.csv\")\n",
    "Imperfect_5_2_o_e_2000_Z = pd.read_csv(r\"C:\\Users\\deven\\Desktop\\CIE21\\Project B/Imperfect_structure_Data/Imperfect_no_5_2_trains_opposite_direction_extreme_tracks_2000N/Deformation_Z_axis.csv\")\n",
    "Imperfect_5_2_o_e_2000_XY = pd.read_csv(r\"C:\\Users\\deven\\Desktop\\CIE21\\Project B/Imperfect_structure_Data/Imperfect_no_5_2_trains_opposite_direction_extreme_tracks_2000N/Shear Stress XY.csv\")\n",
    "Imperfect_5_2_o_e_2000_XZ = pd.read_csv(r\"C:\\Users\\deven\\Desktop\\CIE21\\Project B/Imperfect_structure_Data/Imperfect_no_5_2_trains_opposite_direction_extreme_tracks_2000N/Shear Stress XZ.csv\")\n",
    "Imperfect_5_2_o_e_2000_YZ = pd.read_csv(r\"C:\\Users\\deven\\Desktop\\CIE21\\Project B/Imperfect_structure_Data/Imperfect_no_5_2_trains_opposite_direction_extreme_tracks_2000N/Shear Stress YZ.csv\")\n",
    "Imperfect_5_2_o_e_2000_Total = pd.read_csv(r\"C:\\Users\\deven\\Desktop\\CIE21\\Project B/Imperfect_structure_Data/Imperfect_no_5_2_trains_opposite_direction_extreme_tracks_2000N/Total Deformation.csv\")\n",
    "\n",
    "Test_Set_Imperfect_4_1_m_2000N_X = pd.read_csv(r\"C:\\Users\\deven\\Desktop\\CIE21\\Project B/Test_set/Imperfect_no_4_1_train_middle_track_2000N/Deformation_X_axis.csv\")\n",
    "Test_Set_Imperfect_4_1_m_2000N_Y = pd.read_csv(r\"C:\\Users\\deven\\Desktop\\CIE21\\Project B/Test_set/Imperfect_no_4_1_train_middle_track_2000N/Deformation_Y_axis.csv\")\n",
    "Test_Set_Imperfect_4_1_m_2000N_Z = pd.read_csv(r\"C:\\Users\\deven\\Desktop\\CIE21\\Project B/Test_set/Imperfect_no_4_1_train_middle_track_2000N/Deformation_Z_axis.csv\")\n",
    "Test_Set_Imperfect_4_1_m_2000N_XY = pd.read_csv(r\"C:\\Users\\deven\\Desktop\\CIE21\\Project B/Test_set/Imperfect_no_4_1_train_middle_track_2000N/Shear Stress XY.csv\")\n",
    "Test_Set_Imperfect_4_1_m_2000N_XZ = pd.read_csv(r\"C:\\Users\\deven\\Desktop\\CIE21\\Project B/Test_set/Imperfect_no_4_1_train_middle_track_2000N/Shear Stress XZ.csv\")\n",
    "Test_Set_Imperfect_4_1_m_2000N_YZ = pd.read_csv(r\"C:\\Users\\deven\\Desktop\\CIE21\\Project B/Test_set/Imperfect_no_4_1_train_middle_track_2000N/Shear Stress YZ.csv\")\n",
    "Test_Set_Imperfect_4_1_m_2000N_Total = pd.read_csv(r\"C:\\Users\\deven\\Desktop\\CIE21\\Project B/Test_set/Imperfect_no_4_1_train_middle_track_2000N/Total Deformation.csv\")\n"
   ]
  },
  {
   "cell_type": "code",
   "execution_count": 3,
   "id": "ac464492",
   "metadata": {},
   "outputs": [],
   "source": [
    "Perfect_1_e_5000_X = pd.read_csv(r\"C:\\Users\\jesus\\Desktop\\CIE\\Project B\\Perfect_Structure_data\\Perfect_Structure_data\\Perfect_structure_1_train_extreme_rack_5000N\\Deformation_X_axis.csv\")\n",
    "Perfect_1_e_5000_Y = pd.read_csv(r\"C:\\Users\\jesus\\Desktop\\CIE\\Project B\\Perfect_Structure_data\\Perfect_Structure_data\\Perfect_structure_1_train_extreme_rack_5000N\\Deformation_Y_axis.csv\")\n",
    "Perfect_1_e_5000_Z = pd.read_csv(r\"C:\\Users\\jesus\\Desktop\\CIE\\Project B\\Perfect_Structure_data\\Perfect_Structure_data\\Perfect_structure_1_train_extreme_rack_5000N\\Deformation_Z_axis.csv\")\n",
    "Perfect_1_e_5000_XY = pd.read_csv(r\"C:\\Users\\jesus\\Desktop\\CIE\\Project B\\Perfect_Structure_data\\Perfect_Structure_data\\Perfect_structure_1_train_extreme_rack_5000N\\Shear Stress XY.csv\")\n",
    "Perfect_1_e_5000_XZ = pd.read_csv(r\"C:\\Users\\jesus\\Desktop\\CIE\\Project B\\Perfect_Structure_data\\Perfect_Structure_data\\Perfect_structure_1_train_extreme_rack_5000N\\Shear Stress XZ.csv\")\n",
    "Perfect_1_e_5000_YZ = pd.read_csv(r\"C:\\Users\\jesus\\Desktop\\CIE\\Project B\\Perfect_Structure_data\\Perfect_Structure_data\\Perfect_structure_1_train_extreme_rack_5000N\\Shear Stress YZ.csv\")\n",
    "Perfect_1_e_5000_Total = pd.read_csv(r\"C:\\Users\\jesus\\Desktop\\CIE\\Project B\\Perfect_Structure_data\\Perfect_Structure_data\\Perfect_structure_1_train_extreme_rack_5000N\\Total Deformation.csv\")\n",
    "\n",
    "Perfect_1_e_2000_X = pd.read_csv(r\"C:\\Users\\jesus\\Desktop\\CIE\\Project B\\Perfect_Structure_data\\Perfect_Structure_data\\Perfect_structure_1_train_extreme_track_2000N\\Deformation_X_axis.csv\")\n",
    "Perfect_1_e_2000_Y = pd.read_csv(r\"C:\\Users\\jesus\\Desktop\\CIE\\Project B\\Perfect_Structure_data\\Perfect_Structure_data\\Perfect_structure_1_train_extreme_track_2000N\\Deformation_Y_axis.csv\")\n",
    "Perfect_1_e_2000_Z = pd.read_csv(r\"C:\\Users\\jesus\\Desktop\\CIE\\Project B\\Perfect_Structure_data\\Perfect_Structure_data\\Perfect_structure_1_train_extreme_track_2000N\\Deformation_Z_axis.csv\")\n",
    "Perfect_1_e_2000_XY = pd.read_csv(r\"C:\\Users\\jesus\\Desktop\\CIE\\Project B\\Perfect_Structure_data\\Perfect_Structure_data\\Perfect_structure_1_train_extreme_track_2000N\\Shear Stress XY.csv\")\n",
    "Perfect_1_e_2000_XZ = pd.read_csv(r\"C:\\Users\\jesus\\Desktop\\CIE\\Project B\\Perfect_Structure_data\\Perfect_Structure_data\\Perfect_structure_1_train_extreme_track_2000N\\Shear Stress XZ.csv\")\n",
    "Perfect_1_e_2000_YZ = pd.read_csv(r\"C:\\Users\\jesus\\Desktop\\CIE\\Project B\\Perfect_Structure_data\\Perfect_Structure_data\\Perfect_structure_1_train_extreme_track_2000N\\Shear Stress YZ.csv\")\n",
    "Perfect_1_e_2000_Total = pd.read_csv(r\"C:\\Users\\jesus\\Desktop\\CIE\\Project B\\Perfect_Structure_data\\Perfect_Structure_data\\Perfect_structure_1_train_extreme_track_2000N\\Total Deformation.csv\")\n",
    "\n",
    "Perfect_1_m_2000_X = pd.read_csv(r\"C:\\Users\\jesus\\Desktop\\CIE\\Project B\\Perfect_Structure_data\\Perfect_Structure_data\\Perfect_structure_1_train_middle_track_2000N\\Deformation_X_axis.csv\")\n",
    "Perfect_1_m_2000_Y = pd.read_csv(r\"C:\\Users\\jesus\\Desktop\\CIE\\Project B\\Perfect_Structure_data\\Perfect_Structure_data\\Perfect_structure_1_train_middle_track_2000N\\Deformation_Y_axis.csv\")\n",
    "Perfect_1_m_2000_Z = pd.read_csv(r\"C:\\Users\\jesus\\Desktop\\CIE\\Project B\\Perfect_Structure_data\\Perfect_Structure_data\\Perfect_structure_1_train_middle_track_2000N\\Deformation_Z_axis.csv\")\n",
    "Perfect_1_m_2000_XY = pd.read_csv(r\"C:\\Users\\jesus\\Desktop\\CIE\\Project B\\Perfect_Structure_data\\Perfect_Structure_data\\Perfect_structure_1_train_middle_track_2000N\\Shear Stress XY.csv\")\n",
    "Perfect_1_m_2000_XZ = pd.read_csv(r\"C:\\Users\\jesus\\Desktop\\CIE\\Project B\\Perfect_Structure_data\\Perfect_Structure_data\\Perfect_structure_1_train_middle_track_2000N\\Shear Stress XZ.csv\")\n",
    "Perfect_1_m_2000_YZ = pd.read_csv(r\"C:\\Users\\jesus\\Desktop\\CIE\\Project B\\Perfect_Structure_data\\Perfect_Structure_data\\Perfect_structure_1_train_middle_track_2000N\\Shear Stress YZ.csv\")\n",
    "Perfect_1_m_2000_Total = pd.read_csv(r\"C:\\Users\\jesus\\Desktop\\CIE\\Project B\\Perfect_Structure_data\\Perfect_Structure_data\\Perfect_structure_1_train_middle_track_2000N\\Total Deformation.csv\")\n",
    "\n",
    "Perfect_2_o_e_2000_X = pd.read_csv(r\"C:\\Users\\jesus\\Desktop\\CIE\\Project B\\Perfect_Structure_data\\Perfect_Structure_data\\Perfect_structure_2_trains_opposite_direction_extreme_tracks_2000N\\Deformation_X_axis.csv\")\n",
    "Perfect_2_o_e_2000_Y = pd.read_csv(r\"C:\\Users\\jesus\\Desktop\\CIE\\Project B\\Perfect_Structure_data\\Perfect_Structure_data\\Perfect_structure_2_trains_opposite_direction_extreme_tracks_2000N\\Deformation_Y_axis.csv\")\n",
    "Perfect_2_o_e_2000_Z = pd.read_csv(r\"C:\\Users\\jesus\\Desktop\\CIE\\Project B\\Perfect_Structure_data\\Perfect_Structure_data\\Perfect_structure_2_trains_opposite_direction_extreme_tracks_2000N\\Deformation_Z_axis.csv\")\n",
    "Perfect_2_o_e_2000_XY = pd.read_csv(r\"C:\\Users\\jesus\\Desktop\\CIE\\Project B\\Perfect_Structure_data\\Perfect_Structure_data\\Perfect_structure_2_trains_opposite_direction_extreme_tracks_2000N\\Shear Stress XY.csv\")\n",
    "Perfect_2_o_e_2000_XZ = pd.read_csv(r\"C:\\Users\\jesus\\Desktop\\CIE\\Project B\\Perfect_Structure_data\\Perfect_Structure_data\\Perfect_structure_2_trains_opposite_direction_extreme_tracks_2000N\\Shear Stress XZ.csv\")\n",
    "Perfect_2_o_e_2000_YZ = pd.read_csv(r\"C:\\Users\\jesus\\Desktop\\CIE\\Project B\\Perfect_Structure_data\\Perfect_Structure_data\\Perfect_structure_2_trains_opposite_direction_extreme_tracks_2000N\\Shear Stress YZ.csv\")\n",
    "Perfect_2_o_e_2000_Total = pd.read_csv(r\"C:\\Users\\jesus\\Desktop\\CIE\\Project B\\Perfect_Structure_data\\Perfect_Structure_data\\Perfect_structure_2_trains_opposite_direction_extreme_tracks_2000N\\Total_deformation.csv\")\n",
    "\n",
    "Imperfect_1_1_e_2000_X = pd.read_csv(r\"C:\\Users\\jesus\\Desktop\\CIE\\Project B\\Imperfect_structure_Data\\Imperfect_structure_Data\\Imperfect_no_1_1_train_extreme_track_2000N\\Deformation_X_axis.csv\")\n",
    "Imperfect_1_1_e_2000_Y = pd.read_csv(r\"C:\\Users\\jesus\\Desktop\\CIE\\Project B\\Imperfect_structure_Data\\Imperfect_structure_Data\\Imperfect_no_1_1_train_extreme_track_2000N\\Deformation_Y_axis.csv\")\n",
    "Imperfect_1_1_e_2000_Z = pd.read_csv(r\"C:\\Users\\jesus\\Desktop\\CIE\\Project B\\Imperfect_structure_Data\\Imperfect_structure_Data\\Imperfect_no_1_1_train_extreme_track_2000N\\Deformation_Z_axis.csv\")\n",
    "Imperfect_1_1_e_2000_XY = pd.read_csv(r\"C:\\Users\\jesus\\Desktop\\CIE\\Project B\\Imperfect_structure_Data\\Imperfect_structure_Data\\Imperfect_no_1_1_train_extreme_track_2000N\\Shear Stress XY.csv\")\n",
    "Imperfect_1_1_e_2000_XZ = pd.read_csv(r\"C:\\Users\\jesus\\Desktop\\CIE\\Project B\\Imperfect_structure_Data\\Imperfect_structure_Data\\Imperfect_no_1_1_train_extreme_track_2000N\\Shear Stress XZ.csv\")\n",
    "Imperfect_1_1_e_2000_YZ = pd.read_csv(r\"C:\\Users\\jesus\\Desktop\\CIE\\Project B\\Imperfect_structure_Data\\Imperfect_structure_Data\\Imperfect_no_1_1_train_extreme_track_2000N\\Shear Stress YZ.csv\")\n",
    "Imperfect_1_1_e_2000_Total = pd.read_csv(r\"C:\\Users\\jesus\\Desktop\\CIE\\Project B\\Imperfect_structure_Data\\Imperfect_structure_Data\\Imperfect_no_1_1_train_extreme_track_2000N\\Total Deformation.csv\")\n",
    "\n",
    "Imperfect_1_1_e_5000_X = pd.read_csv(r\"C:\\Users\\jesus\\Desktop\\CIE\\Project B\\Imperfect_structure_Data\\Imperfect_structure_Data\\Imperfect_no_1_1_train_extreme_track_5000N\\Deformation_X_axis.csv\")\n",
    "Imperfect_1_1_e_5000_Y = pd.read_csv(r\"C:\\Users\\jesus\\Desktop\\CIE\\Project B\\Imperfect_structure_Data\\Imperfect_structure_Data\\Imperfect_no_1_1_train_extreme_track_5000N\\Deformation_Y_axis.csv\")\n",
    "Imperfect_1_1_e_5000_Z = pd.read_csv(r\"C:\\Users\\jesus\\Desktop\\CIE\\Project B\\Imperfect_structure_Data\\Imperfect_structure_Data\\Imperfect_no_1_1_train_extreme_track_5000N\\Deformation_Z_axis.csv\")\n",
    "Imperfect_1_1_e_5000_XY = pd.read_csv(r\"C:\\Users\\jesus\\Desktop\\CIE\\Project B\\Imperfect_structure_Data\\Imperfect_structure_Data\\Imperfect_no_1_1_train_extreme_track_5000N\\Shear Stress XY.csv\")\n",
    "Imperfect_1_1_e_5000_XZ = pd.read_csv(r\"C:\\Users\\jesus\\Desktop\\CIE\\Project B\\Imperfect_structure_Data\\Imperfect_structure_Data\\Imperfect_no_1_1_train_extreme_track_5000N\\Shear Stress XZ.csv\")\n",
    "Imperfect_1_1_e_5000_YZ = pd.read_csv(r\"C:\\Users\\jesus\\Desktop\\CIE\\Project B\\Imperfect_structure_Data\\Imperfect_structure_Data\\Imperfect_no_1_1_train_extreme_track_5000N\\Shear Stress YZ.csv\")\n",
    "Imperfect_1_1_e_5000_Total = pd.read_csv(r\"C:\\Users\\jesus\\Desktop\\CIE\\Project B\\Imperfect_structure_Data\\Imperfect_structure_Data\\Imperfect_no_1_1_train_extreme_track_5000N\\Total Deformation.csv\")\n",
    "\n",
    "Imperfect_1_2_o_e_2000_X = pd.read_csv(r\"C:\\Users\\jesus\\Desktop\\CIE\\Project B\\Imperfect_structure_Data\\Imperfect_structure_Data\\Imperfect_no_1_2_trains_opposite_direction_extreme_track_2000N\\Deformation_X_axis.csv\")\n",
    "Imperfect_1_2_o_e_2000_Y = pd.read_csv(r\"C:\\Users\\jesus\\Desktop\\CIE\\Project B\\Imperfect_structure_Data\\Imperfect_structure_Data\\Imperfect_no_1_2_trains_opposite_direction_extreme_track_2000N\\Deformation_Y_axis.csv\")\n",
    "Imperfect_1_2_o_e_2000_Z = pd.read_csv(r\"C:\\Users\\jesus\\Desktop\\CIE\\Project B\\Imperfect_structure_Data\\Imperfect_structure_Data\\Imperfect_no_1_2_trains_opposite_direction_extreme_track_2000N\\Deformation_Z_axis.csv\")\n",
    "Imperfect_1_2_o_e_2000_XY = pd.read_csv(r\"C:\\Users\\jesus\\Desktop\\CIE\\Project B\\Imperfect_structure_Data\\Imperfect_structure_Data\\Imperfect_no_1_2_trains_opposite_direction_extreme_track_2000N\\Shear Stress XY.csv\")\n",
    "Imperfect_1_2_o_e_2000_XZ = pd.read_csv(r\"C:\\Users\\jesus\\Desktop\\CIE\\Project B\\Imperfect_structure_Data\\Imperfect_structure_Data\\Imperfect_no_1_2_trains_opposite_direction_extreme_track_2000N\\Shear Stress XZ.csv\")\n",
    "Imperfect_1_2_o_e_2000_YZ = pd.read_csv(r\"C:\\Users\\jesus\\Desktop\\CIE\\Project B\\Imperfect_structure_Data\\Imperfect_structure_Data\\Imperfect_no_1_2_trains_opposite_direction_extreme_track_2000N\\Shear Stress YZ.csv\")\n",
    "Imperfect_1_2_o_e_2000_Total = pd.read_csv(r\"C:\\Users\\jesus\\Desktop\\CIE\\Project B\\Imperfect_structure_Data\\Imperfect_structure_Data\\Imperfect_no_1_2_trains_opposite_direction_extreme_track_2000N\\Total Deformation.csv\")\n",
    "\n",
    "Imperfect_2_1_e_2000_X = pd.read_csv(r\"C:\\Users\\jesus\\Desktop\\CIE\\Project B\\Imperfect_structure_Data\\Imperfect_structure_Data\\Imperfect_no_2_1_train_extreme_track_2000N\\Deformation_X_axis.csv\")\n",
    "Imperfect_2_1_e_2000_Y = pd.read_csv(r\"C:\\Users\\jesus\\Desktop\\CIE\\Project B\\Imperfect_structure_Data\\Imperfect_structure_Data\\Imperfect_no_2_1_train_extreme_track_2000N\\Deformation_Y_axis.csv\")\n",
    "Imperfect_2_1_e_2000_Z = pd.read_csv(r\"C:\\Users\\jesus\\Desktop\\CIE\\Project B\\Imperfect_structure_Data\\Imperfect_structure_Data\\Imperfect_no_2_1_train_extreme_track_2000N\\Deformation_Z_axis.csv\")\n",
    "Imperfect_2_1_e_2000_XY = pd.read_csv(r\"C:\\Users\\jesus\\Desktop\\CIE\\Project B\\Imperfect_structure_Data\\Imperfect_structure_Data\\Imperfect_no_2_1_train_extreme_track_2000N\\Shear Stress XY.csv\")\n",
    "Imperfect_2_1_e_2000_XZ = pd.read_csv(r\"C:\\Users\\jesus\\Desktop\\CIE\\Project B\\Imperfect_structure_Data\\Imperfect_structure_Data\\Imperfect_no_2_1_train_extreme_track_2000N\\Shear Stress XZ.csv\")\n",
    "Imperfect_2_1_e_2000_YZ = pd.read_csv(r\"C:\\Users\\jesus\\Desktop\\CIE\\Project B\\Imperfect_structure_Data\\Imperfect_structure_Data\\Imperfect_no_2_1_train_extreme_track_2000N\\Shear Stress YZ.csv\")\n",
    "Imperfect_2_1_e_2000_Total = pd.read_csv(r\"C:\\Users\\jesus\\Desktop\\CIE\\Project B\\Imperfect_structure_Data\\Imperfect_structure_Data\\Imperfect_no_2_1_train_extreme_track_2000N\\Total Deformation.csv\")\n",
    "\n",
    "Imperfect_2_1_e_5000_X = pd.read_csv(r\"C:\\Users\\jesus\\Desktop\\CIE\\Project B\\Imperfect_structure_Data\\Imperfect_structure_Data\\imperfect_no_2_1_train_extreme_Track_5000N\\Deformation_X_axis.csv\")\n",
    "Imperfect_2_1_e_5000_Y = pd.read_csv(r\"C:\\Users\\jesus\\Desktop\\CIE\\Project B\\Imperfect_structure_Data\\Imperfect_structure_Data\\imperfect_no_2_1_train_extreme_Track_5000N\\Deformation_Y_axis.csv\")\n",
    "Imperfect_2_1_e_5000_Z = pd.read_csv(r\"C:\\Users\\jesus\\Desktop\\CIE\\Project B\\Imperfect_structure_Data\\Imperfect_structure_Data\\imperfect_no_2_1_train_extreme_Track_5000N\\Deformation_Z_axis.csv\")\n",
    "Imperfect_2_1_e_5000_XY = pd.read_csv(r\"C:\\Users\\jesus\\Desktop\\CIE\\Project B\\Imperfect_structure_Data\\Imperfect_structure_Data\\imperfect_no_2_1_train_extreme_Track_5000N\\Shear Stress XY.csv\")\n",
    "Imperfect_2_1_e_5000_XZ = pd.read_csv(r\"C:\\Users\\jesus\\Desktop\\CIE\\Project B\\Imperfect_structure_Data\\Imperfect_structure_Data\\imperfect_no_2_1_train_extreme_Track_5000N\\Shear Stress XZ.csv\")\n",
    "Imperfect_2_1_e_5000_YZ = pd.read_csv(r\"C:\\Users\\jesus\\Desktop\\CIE\\Project B\\Imperfect_structure_Data\\Imperfect_structure_Data\\imperfect_no_2_1_train_extreme_Track_5000N\\Shear Stress YZ.csv\")\n",
    "Imperfect_2_1_e_5000_Total = pd.read_csv(r\"C:\\Users\\jesus\\Desktop\\CIE\\Project B\\Imperfect_structure_Data\\Imperfect_structure_Data\\imperfect_no_2_1_train_extreme_Track_5000N\\Total Deformation.csv\")\n",
    "\n",
    "Imperfect_2_2_o_e_2000_X = pd.read_csv(r\"C:\\Users\\jesus\\Desktop\\CIE\\Project B\\Imperfect_structure_Data\\Imperfect_structure_Data\\Imperfect_no_2_2_trains_opposite_direction_Extreme_tracks_2000N\\Deformation_X_axis.csv\")\n",
    "Imperfect_2_2_o_e_2000_Y = pd.read_csv(r\"C:\\Users\\jesus\\Desktop\\CIE\\Project B\\Imperfect_structure_Data\\Imperfect_structure_Data\\Imperfect_no_2_2_trains_opposite_direction_Extreme_tracks_2000N\\Deformation_Y_axis.csv\")\n",
    "Imperfect_2_2_o_e_2000_Z = pd.read_csv(r\"C:\\Users\\jesus\\Desktop\\CIE\\Project B\\Imperfect_structure_Data\\Imperfect_structure_Data\\Imperfect_no_2_2_trains_opposite_direction_Extreme_tracks_2000N\\Deformation_Z_axis.csv\")\n",
    "Imperfect_2_2_o_e_2000_XY = pd.read_csv(r\"C:\\Users\\jesus\\Desktop\\CIE\\Project B\\Imperfect_structure_Data\\Imperfect_structure_Data\\Imperfect_no_2_2_trains_opposite_direction_Extreme_tracks_2000N\\Shear Stress XY.csv\")\n",
    "Imperfect_2_2_o_e_2000_XZ = pd.read_csv(r\"C:\\Users\\jesus\\Desktop\\CIE\\Project B\\Imperfect_structure_Data\\Imperfect_structure_Data\\Imperfect_no_2_2_trains_opposite_direction_Extreme_tracks_2000N\\Shear Stress XZ.csv\")\n",
    "Imperfect_2_2_o_e_2000_YZ = pd.read_csv(r\"C:\\Users\\jesus\\Desktop\\CIE\\Project B\\Imperfect_structure_Data\\Imperfect_structure_Data\\Imperfect_no_2_2_trains_opposite_direction_Extreme_tracks_2000N\\Shear Stress YZ.csv\")\n",
    "Imperfect_2_2_o_e_2000_Total = pd.read_csv(r\"C:\\Users\\jesus\\Desktop\\CIE\\Project B\\Imperfect_structure_Data\\Imperfect_structure_Data\\Imperfect_no_2_2_trains_opposite_direction_Extreme_tracks_2000N\\Total Deformation.csv\")\n",
    "\n",
    "Imperfect_3_1_e_2000_X = pd.read_csv(r\"C:\\Users\\jesus\\Desktop\\CIE\\Project B\\Imperfect_structure_Data\\Imperfect_structure_Data\\Imperfect_no_3_1_train_extreme_track_2000N\\Deformation_X_axis.csv\")\n",
    "Imperfect_3_1_e_2000_Y = pd.read_csv(r\"C:\\Users\\jesus\\Desktop\\CIE\\Project B\\Imperfect_structure_Data\\Imperfect_structure_Data\\Imperfect_no_3_1_train_extreme_track_2000N\\Deformation_Y_axis.csv\")\n",
    "Imperfect_3_1_e_2000_Z = pd.read_csv(r\"C:\\Users\\jesus\\Desktop\\CIE\\Project B\\Imperfect_structure_Data\\Imperfect_structure_Data\\Imperfect_no_3_1_train_extreme_track_2000N\\Deformation_Z_axis.csv\")\n",
    "Imperfect_3_1_e_2000_XY = pd.read_csv(r\"C:\\Users\\jesus\\Desktop\\CIE\\Project B\\Imperfect_structure_Data\\Imperfect_structure_Data\\Imperfect_no_3_1_train_extreme_track_2000N\\Shear Stress XY.csv\")\n",
    "Imperfect_3_1_e_2000_XZ = pd.read_csv(r\"C:\\Users\\jesus\\Desktop\\CIE\\Project B\\Imperfect_structure_Data\\Imperfect_structure_Data\\Imperfect_no_3_1_train_extreme_track_2000N\\Shear Stress XZ.csv\")\n",
    "Imperfect_3_1_e_2000_YZ = pd.read_csv(r\"C:\\Users\\jesus\\Desktop\\CIE\\Project B\\Imperfect_structure_Data\\Imperfect_structure_Data\\Imperfect_no_3_1_train_extreme_track_2000N\\Shear Stress YZ.csv\")\n",
    "Imperfect_3_1_e_2000_Total = pd.read_csv(r\"C:\\Users\\jesus\\Desktop\\CIE\\Project B\\Imperfect_structure_Data\\Imperfect_structure_Data\\Imperfect_no_3_1_train_extreme_track_2000N\\Total Deformation.csv\")\n",
    "\n",
    "Imperfect_3_1_e_5000_X = pd.read_csv(r\"C:\\Users\\jesus\\Desktop\\CIE\\Project B\\Imperfect_structure_Data\\Imperfect_structure_Data\\imperfect_no_3_1_train_extreme_track_5000N\\Deformation_X_axis.csv\")\n",
    "Imperfect_3_1_e_5000_Y = pd.read_csv(r\"C:\\Users\\jesus\\Desktop\\CIE\\Project B\\Imperfect_structure_Data\\Imperfect_structure_Data\\imperfect_no_3_1_train_extreme_track_5000N\\Deformation_Y_axis.csv\")\n",
    "Imperfect_3_1_e_5000_Z = pd.read_csv(r\"C:\\Users\\jesus\\Desktop\\CIE\\Project B\\Imperfect_structure_Data\\Imperfect_structure_Data\\imperfect_no_3_1_train_extreme_track_5000N\\Deformation_Z_axis.csv\")\n",
    "Imperfect_3_1_e_5000_XY = pd.read_csv(r\"C:\\Users\\jesus\\Desktop\\CIE\\Project B\\Imperfect_structure_Data\\Imperfect_structure_Data\\imperfect_no_3_1_train_extreme_track_5000N\\Shear Stress XY.csv\")\n",
    "Imperfect_3_1_e_5000_XZ = pd.read_csv(r\"C:\\Users\\jesus\\Desktop\\CIE\\Project B\\Imperfect_structure_Data\\Imperfect_structure_Data\\imperfect_no_3_1_train_extreme_track_5000N\\Shear Stress XZ.csv\")\n",
    "Imperfect_3_1_e_5000_YZ = pd.read_csv(r\"C:\\Users\\jesus\\Desktop\\CIE\\Project B\\Imperfect_structure_Data\\Imperfect_structure_Data\\imperfect_no_3_1_train_extreme_track_5000N\\Shear Stress YZ.csv\")\n",
    "Imperfect_3_1_e_5000_Total = pd.read_csv(r\"C:\\Users\\jesus\\Desktop\\CIE\\Project B\\Imperfect_structure_Data\\Imperfect_structure_Data\\imperfect_no_3_1_train_extreme_track_5000N\\Total Deformation.csv\")\n",
    "\n",
    "Imperfect_3_2_o_e_2000_X = pd.read_csv(r\"C:\\Users\\jesus\\Desktop\\CIE\\Project B\\Imperfect_structure_Data\\Imperfect_structure_Data\\Imperfect_no_3_2_trains_opposite_direction_extreme_tracks_2000N\\Deformation_X_axis.csv\")\n",
    "Imperfect_3_2_o_e_2000_Y = pd.read_csv(r\"C:\\Users\\jesus\\Desktop\\CIE\\Project B\\Imperfect_structure_Data\\Imperfect_structure_Data\\Imperfect_no_3_2_trains_opposite_direction_extreme_tracks_2000N\\Deformation_Y_axis.csv\")\n",
    "Imperfect_3_2_o_e_2000_Z = pd.read_csv(r\"C:\\Users\\jesus\\Desktop\\CIE\\Project B\\Imperfect_structure_Data\\Imperfect_structure_Data\\Imperfect_no_3_2_trains_opposite_direction_extreme_tracks_2000N\\Deformation_Z_axis.csv\")\n",
    "Imperfect_3_2_o_e_2000_XY = pd.read_csv(r\"C:\\Users\\jesus\\Desktop\\CIE\\Project B\\Imperfect_structure_Data\\Imperfect_structure_Data\\Imperfect_no_3_2_trains_opposite_direction_extreme_tracks_2000N\\Shear Stress XY.csv\")\n",
    "Imperfect_3_2_o_e_2000_XZ = pd.read_csv(r\"C:\\Users\\jesus\\Desktop\\CIE\\Project B\\Imperfect_structure_Data\\Imperfect_structure_Data\\Imperfect_no_3_2_trains_opposite_direction_extreme_tracks_2000N\\Shear Stress XZ.csv\")\n",
    "Imperfect_3_2_o_e_2000_YZ = pd.read_csv(r\"C:\\Users\\jesus\\Desktop\\CIE\\Project B\\Imperfect_structure_Data\\Imperfect_structure_Data\\Imperfect_no_3_2_trains_opposite_direction_extreme_tracks_2000N\\Shear Stress YZ.csv\")\n",
    "Imperfect_3_2_o_e_2000_Total = pd.read_csv(r\"C:\\Users\\jesus\\Desktop\\CIE\\Project B\\Imperfect_structure_Data\\Imperfect_structure_Data\\Imperfect_no_3_2_trains_opposite_direction_extreme_tracks_2000N\\Total Deformation.csv\")\n",
    "\n",
    "Imperfect_4_1_e_2000_X = pd.read_csv(r\"C:\\Users\\jesus\\Desktop\\CIE\\Project B\\Imperfect_structure_Data\\Imperfect_structure_Data\\imperfect_no_4_1_train_extreme_track_2000N\\Deformation_X_axis.csv\")\n",
    "Imperfect_4_1_e_2000_Y = pd.read_csv(r\"C:\\Users\\jesus\\Desktop\\CIE\\Project B\\Imperfect_structure_Data\\Imperfect_structure_Data\\imperfect_no_4_1_train_extreme_track_2000N\\Deformation_Y_axis.csv\")\n",
    "Imperfect_4_1_e_2000_Z = pd.read_csv(r\"C:\\Users\\jesus\\Desktop\\CIE\\Project B\\Imperfect_structure_Data\\Imperfect_structure_Data\\imperfect_no_4_1_train_extreme_track_2000N\\Deformation_Z_axis.csv\")\n",
    "Imperfect_4_1_e_2000_XY = pd.read_csv(r\"C:\\Users\\jesus\\Desktop\\CIE\\Project B\\Imperfect_structure_Data\\Imperfect_structure_Data\\imperfect_no_4_1_train_extreme_track_2000N\\Shear Stress XY.csv\")\n",
    "Imperfect_4_1_e_2000_XZ = pd.read_csv(r\"C:\\Users\\jesus\\Desktop\\CIE\\Project B\\Imperfect_structure_Data\\Imperfect_structure_Data\\imperfect_no_4_1_train_extreme_track_2000N\\Shear Stress XZ.csv\")\n",
    "Imperfect_4_1_e_2000_YZ = pd.read_csv(r\"C:\\Users\\jesus\\Desktop\\CIE\\Project B\\Imperfect_structure_Data\\Imperfect_structure_Data\\imperfect_no_4_1_train_extreme_track_2000N\\Shear Stress YZ.csv\")\n",
    "Imperfect_4_1_e_2000_Total = pd.read_csv(r\"C:\\Users\\jesus\\Desktop\\CIE\\Project B\\Imperfect_structure_Data\\Imperfect_structure_Data\\imperfect_no_4_1_train_extreme_track_2000N\\Total Deformation.csv\")\n",
    "\n",
    "Imperfect_4_1_e_5000_X = pd.read_csv(r\"C:\\Users\\jesus\\Desktop\\CIE\\Project B\\Imperfect_structure_Data\\Imperfect_structure_Data\\imperfect_no_4_1_train_extreme_track_5000N\\Deformation_X_axis.csv\")\n",
    "Imperfect_4_1_e_5000_Y = pd.read_csv(r\"C:\\Users\\jesus\\Desktop\\CIE\\Project B\\Imperfect_structure_Data\\Imperfect_structure_Data\\imperfect_no_4_1_train_extreme_track_5000N\\Deformation_Y_axis.csv\")\n",
    "Imperfect_4_1_e_5000_Z = pd.read_csv(r\"C:\\Users\\jesus\\Desktop\\CIE\\Project B\\Imperfect_structure_Data\\Imperfect_structure_Data\\imperfect_no_4_1_train_extreme_track_5000N\\Deformation_Z_axis.csv\")\n",
    "Imperfect_4_1_e_5000_XY = pd.read_csv(r\"C:\\Users\\jesus\\Desktop\\CIE\\Project B\\Imperfect_structure_Data\\Imperfect_structure_Data\\imperfect_no_4_1_train_extreme_track_5000N\\Shear Stress XY.csv\")\n",
    "Imperfect_4_1_e_5000_XZ = pd.read_csv(r\"C:\\Users\\jesus\\Desktop\\CIE\\Project B\\Imperfect_structure_Data\\Imperfect_structure_Data\\imperfect_no_4_1_train_extreme_track_5000N\\Shear Stress XZ.csv\")\n",
    "Imperfect_4_1_e_5000_YZ = pd.read_csv(r\"C:\\Users\\jesus\\Desktop\\CIE\\Project B\\Imperfect_structure_Data\\Imperfect_structure_Data\\imperfect_no_4_1_train_extreme_track_5000N\\Shear Stress YZ.csv\")\n",
    "Imperfect_4_1_e_5000_Total = pd.read_csv(r\"C:\\Users\\jesus\\Desktop\\CIE\\Project B\\Imperfect_structure_Data\\Imperfect_structure_Data\\imperfect_no_4_1_train_extreme_track_5000N\\Total Deformation.csv\")\n",
    "\n",
    "Imperfect_4_2_o_e_2000_X = pd.read_csv(r\"C:\\Users\\jesus\\Desktop\\CIE\\Project B\\Imperfect_structure_Data\\Imperfect_structure_Data\\Imperfect_no_4_2_trains_opposite_direction_extreme_tracks_2000N\\Deformation_X_axis.csv\")\n",
    "Imperfect_4_2_o_e_2000_Y = pd.read_csv(r\"C:\\Users\\jesus\\Desktop\\CIE\\Project B\\Imperfect_structure_Data\\Imperfect_structure_Data\\Imperfect_no_4_2_trains_opposite_direction_extreme_tracks_2000N\\Deformation_Y_axis.csv\")\n",
    "Imperfect_4_2_o_e_2000_Z = pd.read_csv(r\"C:\\Users\\jesus\\Desktop\\CIE\\Project B\\Imperfect_structure_Data\\Imperfect_structure_Data\\Imperfect_no_4_2_trains_opposite_direction_extreme_tracks_2000N\\Deformation_Z_axis.csv\")\n",
    "Imperfect_4_2_o_e_2000_XY = pd.read_csv(r\"C:\\Users\\jesus\\Desktop\\CIE\\Project B\\Imperfect_structure_Data\\Imperfect_structure_Data\\Imperfect_no_4_2_trains_opposite_direction_extreme_tracks_2000N\\Shear Stress XY.csv\")\n",
    "Imperfect_4_2_o_e_2000_XZ = pd.read_csv(r\"C:\\Users\\jesus\\Desktop\\CIE\\Project B\\Imperfect_structure_Data\\Imperfect_structure_Data\\Imperfect_no_4_2_trains_opposite_direction_extreme_tracks_2000N\\Shear Stress XZ.csv\")\n",
    "Imperfect_4_2_o_e_2000_YZ = pd.read_csv(r\"C:\\Users\\jesus\\Desktop\\CIE\\Project B\\Imperfect_structure_Data\\Imperfect_structure_Data\\Imperfect_no_4_2_trains_opposite_direction_extreme_tracks_2000N\\Shear Stress YZ.csv\")\n",
    "Imperfect_4_2_o_e_2000_Total = pd.read_csv(r\"C:\\Users\\jesus\\Desktop\\CIE\\Project B\\Imperfect_structure_Data\\Imperfect_structure_Data\\Imperfect_no_4_2_trains_opposite_direction_extreme_tracks_2000N\\Total Deformation.csv\")\n",
    "\n",
    "Imperfect_5_1_e_2000_X = pd.read_csv(r\"C:\\Users\\jesus\\Desktop\\CIE\\Project B\\Imperfect_structure_Data\\Imperfect_structure_Data\\imperfect_no_5_1_train_extreme_track_2000N\\Deformation_X_axis.csv\")\n",
    "Imperfect_5_1_e_2000_Y = pd.read_csv(r\"C:\\Users\\jesus\\Desktop\\CIE\\Project B\\Imperfect_structure_Data\\Imperfect_structure_Data\\imperfect_no_5_1_train_extreme_track_2000N\\Deformation_Y_axis.csv\")\n",
    "Imperfect_5_1_e_2000_Z = pd.read_csv(r\"C:\\Users\\jesus\\Desktop\\CIE\\Project B\\Imperfect_structure_Data\\Imperfect_structure_Data\\imperfect_no_5_1_train_extreme_track_2000N\\Deformation_Z_axis.csv\")\n",
    "Imperfect_5_1_e_2000_XY = pd.read_csv(r\"C:\\Users\\jesus\\Desktop\\CIE\\Project B\\Imperfect_structure_Data\\Imperfect_structure_Data\\imperfect_no_5_1_train_extreme_track_2000N\\Shear Stress XY.csv\")\n",
    "Imperfect_5_1_e_2000_XZ = pd.read_csv(r\"C:\\Users\\jesus\\Desktop\\CIE\\Project B\\Imperfect_structure_Data\\Imperfect_structure_Data\\imperfect_no_5_1_train_extreme_track_2000N\\Shear Stress XZ.csv\")\n",
    "Imperfect_5_1_e_2000_YZ = pd.read_csv(r\"C:\\Users\\jesus\\Desktop\\CIE\\Project B\\Imperfect_structure_Data\\Imperfect_structure_Data\\imperfect_no_5_1_train_extreme_track_2000N\\Shear Stress YZ.csv\")\n",
    "Imperfect_5_1_e_2000_Total = pd.read_csv(r\"C:\\Users\\jesus\\Desktop\\CIE\\Project B\\Imperfect_structure_Data\\Imperfect_structure_Data\\imperfect_no_5_1_train_extreme_track_2000N\\Total Deformation.csv\")\n",
    "\n",
    "Imperfect_5_1_e_5000_X = pd.read_csv(r\"C:\\Users\\jesus\\Desktop\\CIE\\Project B\\Imperfect_structure_Data\\Imperfect_structure_Data\\imperfect_no_5_1_train_extreme_track_5000N\\Deformation_X_axis.csv\")\n",
    "Imperfect_5_1_e_5000_Y = pd.read_csv(r\"C:\\Users\\jesus\\Desktop\\CIE\\Project B\\Imperfect_structure_Data\\Imperfect_structure_Data\\imperfect_no_5_1_train_extreme_track_5000N\\Deformation_Y_axis.csv\")\n",
    "Imperfect_5_1_e_5000_Z = pd.read_csv(r\"C:\\Users\\jesus\\Desktop\\CIE\\Project B\\Imperfect_structure_Data\\Imperfect_structure_Data\\imperfect_no_5_1_train_extreme_track_5000N\\Deformation_Z_axis.csv\")\n",
    "Imperfect_5_1_e_5000_XY = pd.read_csv(r\"C:\\Users\\jesus\\Desktop\\CIE\\Project B\\Imperfect_structure_Data\\Imperfect_structure_Data\\imperfect_no_5_1_train_extreme_track_5000N\\Shear Stress XY.csv\")\n",
    "Imperfect_5_1_e_5000_XZ = pd.read_csv(r\"C:\\Users\\jesus\\Desktop\\CIE\\Project B\\Imperfect_structure_Data\\Imperfect_structure_Data\\imperfect_no_5_1_train_extreme_track_5000N\\Shear Stress XZ.csv\")\n",
    "Imperfect_5_1_e_5000_YZ = pd.read_csv(r\"C:\\Users\\jesus\\Desktop\\CIE\\Project B\\Imperfect_structure_Data\\Imperfect_structure_Data\\imperfect_no_5_1_train_extreme_track_5000N\\Shear Stress YZ.csv\")\n",
    "Imperfect_5_1_e_5000_Total = pd.read_csv(r\"C:\\Users\\jesus\\Desktop\\CIE\\Project B\\Imperfect_structure_Data\\Imperfect_structure_Data\\imperfect_no_5_1_train_extreme_track_5000N\\Total Deformation.csv\")\n",
    "\n",
    "Imperfect_5_2_o_e_2000_X = pd.read_csv(r\"C:\\Users\\jesus\\Desktop\\CIE\\Project B\\Imperfect_structure_Data\\Imperfect_structure_Data\\Imperfect_no_5_2_trains_opposite_direction_extreme_tracks_2000N\\Deformation_X_axis.csv\")\n",
    "Imperfect_5_2_o_e_2000_Y = pd.read_csv(r\"C:\\Users\\jesus\\Desktop\\CIE\\Project B\\Imperfect_structure_Data\\Imperfect_structure_Data\\Imperfect_no_5_2_trains_opposite_direction_extreme_tracks_2000N\\Deformation_Y_axis.csv\")\n",
    "Imperfect_5_2_o_e_2000_Z = pd.read_csv(r\"C:\\Users\\jesus\\Desktop\\CIE\\Project B\\Imperfect_structure_Data\\Imperfect_structure_Data\\Imperfect_no_5_2_trains_opposite_direction_extreme_tracks_2000N\\Deformation_Z_axis.csv\")\n",
    "Imperfect_5_2_o_e_2000_XY = pd.read_csv(r\"C:\\Users\\jesus\\Desktop\\CIE\\Project B\\Imperfect_structure_Data\\Imperfect_structure_Data\\Imperfect_no_5_2_trains_opposite_direction_extreme_tracks_2000N\\Shear Stress XY.csv\")\n",
    "Imperfect_5_2_o_e_2000_XZ = pd.read_csv(r\"C:\\Users\\jesus\\Desktop\\CIE\\Project B\\Imperfect_structure_Data\\Imperfect_structure_Data\\Imperfect_no_5_2_trains_opposite_direction_extreme_tracks_2000N\\Shear Stress XZ.csv\")\n",
    "Imperfect_5_2_o_e_2000_YZ = pd.read_csv(r\"C:\\Users\\jesus\\Desktop\\CIE\\Project B\\Imperfect_structure_Data\\Imperfect_structure_Data\\Imperfect_no_5_2_trains_opposite_direction_extreme_tracks_2000N\\Shear Stress YZ.csv\")\n",
    "Imperfect_5_2_o_e_2000_Total = pd.read_csv(r\"C:\\Users\\jesus\\Desktop\\CIE\\Project B\\Imperfect_structure_Data\\Imperfect_structure_Data\\Imperfect_no_5_2_trains_opposite_direction_extreme_tracks_2000N\\Total Deformation.csv\")\n",
    "\n",
    "Test_Set_Imperfect_4_1_m_2000N_X = pd.read_csv(r\"C:\\Users\\jesus\\Desktop\\CIE\\Project B\\Imperfect_structure_Data\\Imperfect_structure_Data\\Test_set\\Imperfect_no_4_1_train_middle_track_2000N\\Deformation_X_axis.csv\")\n",
    "Test_Set_Imperfect_4_1_m_2000N_Y = pd.read_csv(r\"C:\\Users\\jesus\\Desktop\\CIE\\Project B\\Imperfect_structure_Data\\Imperfect_structure_Data\\Test_set\\Imperfect_no_4_1_train_middle_track_2000N\\Deformation_Y_axis.csv\")\n",
    "Test_Set_Imperfect_4_1_m_2000N_Z = pd.read_csv(r\"C:\\Users\\jesus\\Desktop\\CIE\\Project B\\Imperfect_structure_Data\\Imperfect_structure_Data\\Test_set\\Imperfect_no_4_1_train_middle_track_2000N\\Deformation_Z_axis.csv\")\n",
    "Test_Set_Imperfect_4_1_m_2000N_XY = pd.read_csv(r\"C:\\Users\\jesus\\Desktop\\CIE\\Project B\\Imperfect_structure_Data\\Imperfect_structure_Data\\Test_set\\Imperfect_no_4_1_train_middle_track_2000N\\Shear Stress XY.csv\")\n",
    "Test_Set_Imperfect_4_1_m_2000N_XZ = pd.read_csv(r\"C:\\Users\\jesus\\Desktop\\CIE\\Project B\\Imperfect_structure_Data\\Imperfect_structure_Data\\Test_set\\Imperfect_no_4_1_train_middle_track_2000N\\Shear Stress XZ.csv\")\n",
    "Test_Set_Imperfect_4_1_m_2000N_YZ = pd.read_csv(r\"C:\\Users\\jesus\\Desktop\\CIE\\Project B\\Imperfect_structure_Data\\Imperfect_structure_Data\\Test_set\\Imperfect_no_4_1_train_middle_track_2000N\\Shear Stress YZ.csv\")\n",
    "Test_Set_Imperfect_4_1_m_2000N_Total = pd.read_csv(r\"C:\\Users\\jesus\\Desktop\\CIE\\Project B\\Imperfect_structure_Data\\Imperfect_structure_Data\\Test_set\\Imperfect_no_4_1_train_middle_track_2000N\\Total Deformation.csv\")"
   ]
  },
  {
   "cell_type": "markdown",
   "id": "52146b27",
   "metadata": {},
   "source": [
    "Step 3: Data Pre-Processing"
   ]
  },
  {
   "cell_type": "code",
   "execution_count": 6,
   "id": "3818e9c7",
   "metadata": {},
   "outputs": [],
   "source": [
    "#Horizontally concatenate all of the data that belongs to the same set\n",
    "Perfect_1_e_5000 = pd.concat([Perfect_1_e_5000_X, Perfect_1_e_5000_Y, Perfect_1_e_5000_Z, Perfect_1_e_5000_XY, Perfect_1_e_5000_XZ, Perfect_1_e_5000_YZ, Perfect_1_e_5000_Total], axis=1)\n",
    "Perfect_1_e_2000 = pd.concat([Perfect_1_e_2000_X, Perfect_1_e_2000_Y, Perfect_1_e_2000_Z, Perfect_1_e_2000_XY, Perfect_1_e_2000_XZ, Perfect_1_e_2000_YZ, Perfect_1_e_2000_Total], axis=1)\n",
    "Perfect_1_m_2000 = pd.concat([Perfect_1_m_2000_X, Perfect_1_m_2000_Y, Perfect_1_m_2000_Z, Perfect_1_m_2000_XY, Perfect_1_m_2000_XZ, Perfect_1_m_2000_YZ, Perfect_1_m_2000_Total], axis=1)\n",
    "Perfect_2_o_e_2000 = pd.concat([Perfect_2_o_e_2000_X, Perfect_2_o_e_2000_Y, Perfect_2_o_e_2000_Z, Perfect_2_o_e_2000_XY, Perfect_2_o_e_2000_XZ, Perfect_2_o_e_2000_YZ, Perfect_2_o_e_2000_Total], axis=1)\n",
    "Imperfect_1_1_e_2000 = pd.concat([Imperfect_1_1_e_2000_X, Imperfect_1_1_e_2000_Y, Imperfect_1_1_e_2000_Z, Imperfect_1_1_e_2000_XY, Imperfect_1_1_e_2000_XZ, Imperfect_1_1_e_2000_YZ, Imperfect_1_1_e_2000_Total], axis=1)\n",
    "Imperfect_1_1_e_5000 = pd.concat([Imperfect_1_1_e_5000_X, Imperfect_1_1_e_5000_Y, Imperfect_1_1_e_5000_Z, Imperfect_1_1_e_5000_XY, Imperfect_1_1_e_5000_XZ, Imperfect_1_1_e_5000_YZ, Imperfect_1_1_e_5000_Total], axis=1)\n",
    "Imperfect_1_2_o_e_2000 = pd.concat([Imperfect_1_2_o_e_2000_X, Imperfect_1_2_o_e_2000_Y, Imperfect_1_2_o_e_2000_Z, Imperfect_1_2_o_e_2000_XY, Imperfect_1_2_o_e_2000_XZ, Imperfect_1_2_o_e_2000_YZ, Imperfect_1_2_o_e_2000_Total], axis=1)\n",
    "Imperfect_2_1_e_2000 = pd.concat([Imperfect_2_1_e_2000_X, Imperfect_2_1_e_2000_Y, Imperfect_2_1_e_2000_Z, Imperfect_2_1_e_2000_XY, Imperfect_2_1_e_2000_XZ, Imperfect_2_1_e_2000_YZ, Imperfect_2_1_e_2000_Total], axis=1)\n",
    "Imperfect_2_1_e_5000 = pd.concat([Imperfect_2_1_e_5000_X, Imperfect_2_1_e_5000_Y, Imperfect_2_1_e_5000_Z, Imperfect_2_1_e_5000_XY, Imperfect_2_1_e_5000_XZ, Imperfect_2_1_e_5000_YZ, Imperfect_2_1_e_5000_Total], axis=1)\n",
    "Imperfect_2_2_o_e_2000 = pd.concat([Imperfect_2_2_o_e_2000_X, Imperfect_2_2_o_e_2000_Y, Imperfect_2_2_o_e_2000_Z, Imperfect_2_2_o_e_2000_XY, Imperfect_2_2_o_e_2000_XZ, Imperfect_2_2_o_e_2000_YZ, Imperfect_2_2_o_e_2000_Total], axis=1)\n",
    "Imperfect_3_1_e_2000 = pd.concat([Imperfect_3_1_e_2000_X, Imperfect_3_1_e_2000_Y, Imperfect_3_1_e_2000_Z, Imperfect_3_1_e_2000_XY, Imperfect_3_1_e_2000_XZ, Imperfect_3_1_e_2000_YZ, Imperfect_3_1_e_2000_Total], axis=1)\n",
    "Imperfect_3_1_e_5000 = pd.concat([Imperfect_3_1_e_5000_X, Imperfect_3_1_e_5000_Y, Imperfect_3_1_e_5000_Z, Imperfect_3_1_e_5000_XY, Imperfect_3_1_e_5000_XZ, Imperfect_3_1_e_5000_YZ, Imperfect_3_1_e_5000_Total], axis=1)\n",
    "Imperfect_3_2_o_e_2000 = pd.concat([Imperfect_3_2_o_e_2000_X, Imperfect_3_2_o_e_2000_Y, Imperfect_3_2_o_e_2000_Z, Imperfect_3_2_o_e_2000_XY, Imperfect_3_2_o_e_2000_XZ, Imperfect_3_2_o_e_2000_YZ, Imperfect_3_2_o_e_2000_Total], axis=1)\n",
    "Imperfect_4_1_e_2000 = pd.concat([Imperfect_4_1_e_2000_X, Imperfect_4_1_e_2000_Y, Imperfect_4_1_e_2000_Z, Imperfect_4_1_e_2000_XY, Imperfect_4_1_e_2000_XZ, Imperfect_4_1_e_2000_YZ, Imperfect_4_1_e_2000_Total], axis=1)\n",
    "Imperfect_4_1_e_5000 = pd.concat([Imperfect_4_1_e_5000_X, Imperfect_4_1_e_5000_Y, Imperfect_4_1_e_5000_Z, Imperfect_4_1_e_5000_XY, Imperfect_4_1_e_5000_XZ, Imperfect_4_1_e_5000_YZ, Imperfect_4_1_e_5000_Total], axis=1)\n",
    "Imperfect_4_2_o_e_2000 = pd.concat([Imperfect_4_2_o_e_2000_X, Imperfect_4_2_o_e_2000_Y, Imperfect_4_2_o_e_2000_Z, Imperfect_4_2_o_e_2000_XY, Imperfect_4_2_o_e_2000_XZ, Imperfect_4_2_o_e_2000_YZ, Imperfect_4_2_o_e_2000_Total], axis=1)\n",
    "Imperfect_5_1_e_2000 = pd.concat([Imperfect_5_1_e_2000_X, Imperfect_5_1_e_2000_Y, Imperfect_5_1_e_2000_Z, Imperfect_5_1_e_2000_XY, Imperfect_5_1_e_2000_XZ, Imperfect_5_1_e_2000_YZ, Imperfect_5_1_e_2000_Total], axis=1)\n",
    "Imperfect_5_1_e_5000 = pd.concat([Imperfect_5_1_e_5000_X, Imperfect_5_1_e_5000_Y, Imperfect_5_1_e_5000_Z, Imperfect_5_1_e_5000_XY, Imperfect_5_1_e_5000_XZ, Imperfect_5_1_e_5000_YZ, Imperfect_5_1_e_5000_Total], axis=1)\n",
    "Imperfect_5_2_o_e_2000 = pd.concat([Imperfect_5_2_o_e_2000_X, Imperfect_5_2_o_e_2000_Y, Imperfect_5_2_o_e_2000_Z, Imperfect_5_2_o_e_2000_XY, Imperfect_5_2_o_e_2000_XZ, Imperfect_5_2_o_e_2000_YZ, Imperfect_5_2_o_e_2000_Total], axis=1)\n",
    "Test_Set_Imperfect_4_1_m_2000N = pd.concat([Test_Set_Imperfect_4_1_m_2000N_X, Test_Set_Imperfect_4_1_m_2000N_Y, Test_Set_Imperfect_4_1_m_2000N_Z, Test_Set_Imperfect_4_1_m_2000N_XY, Test_Set_Imperfect_4_1_m_2000N_XZ, Test_Set_Imperfect_4_1_m_2000N_YZ, Test_Set_Imperfect_4_1_m_2000N_Total], axis=1)\n",
    "\n",
    "#Remove duplicate columns i.e. node numbers\n",
    "Perfect_1_e_5000 = Perfect_1_e_5000.loc[:, ~Perfect_1_e_5000.columns.duplicated()]\n",
    "Perfect_1_e_2000 = Perfect_1_e_2000.loc[:, ~Perfect_1_e_2000.columns.duplicated()]\n",
    "Perfect_1_m_2000 = Perfect_1_m_2000.loc[:, ~Perfect_1_m_2000.columns.duplicated()]\n",
    "Perfect_2_o_e_2000 = Perfect_2_o_e_2000.loc[:, ~Perfect_2_o_e_2000.columns.duplicated()]\n",
    "Imperfect_1_1_e_2000 = Imperfect_1_1_e_2000.loc[:, ~Imperfect_1_1_e_2000.columns.duplicated()]\n",
    "Imperfect_1_1_e_5000 = Imperfect_1_1_e_5000.loc[:, ~Imperfect_1_1_e_5000.columns.duplicated()]\n",
    "Imperfect_1_2_o_e_2000 = Imperfect_1_2_o_e_2000.loc[:, ~Imperfect_1_2_o_e_2000.columns.duplicated()]\n",
    "Imperfect_2_1_e_2000 = Imperfect_2_1_e_2000.loc[:, ~Imperfect_2_1_e_2000.columns.duplicated()]\n",
    "Imperfect_2_1_e_5000 = Imperfect_2_1_e_5000.loc[:, ~Imperfect_2_1_e_5000.columns.duplicated()]\n",
    "Imperfect_2_2_o_e_2000 = Imperfect_2_2_o_e_2000.loc[:, ~Imperfect_2_2_o_e_2000.columns.duplicated()]\n",
    "Imperfect_3_1_e_2000 = Imperfect_3_1_e_2000.loc[:, ~Imperfect_3_1_e_2000.columns.duplicated()]\n",
    "Imperfect_3_1_e_5000 = Imperfect_3_1_e_5000.loc[:, ~Imperfect_3_1_e_5000.columns.duplicated()]\n",
    "Imperfect_3_2_o_e_2000 = Imperfect_3_2_o_e_2000.loc[:, ~Imperfect_3_2_o_e_2000.columns.duplicated()]\n",
    "Imperfect_4_1_e_2000 = Imperfect_4_1_e_2000.loc[:, ~Imperfect_4_1_e_2000.columns.duplicated()]\n",
    "Imperfect_4_1_e_5000 = Imperfect_4_1_e_5000.loc[:, ~Imperfect_4_1_e_5000.columns.duplicated()]\n",
    "Imperfect_4_2_o_e_2000 = Imperfect_4_2_o_e_2000.loc[:, ~Imperfect_4_2_o_e_2000.columns.duplicated()]\n",
    "Imperfect_5_1_e_2000 = Imperfect_5_1_e_2000.loc[:, ~Imperfect_5_1_e_2000.columns.duplicated()]\n",
    "Imperfect_5_1_e_5000 = Imperfect_5_1_e_5000.loc[:, ~Imperfect_5_1_e_5000.columns.duplicated()]\n",
    "Imperfect_5_2_o_e_2000 = Imperfect_5_2_o_e_2000.loc[:, ~Imperfect_5_2_o_e_2000.columns.duplicated()]\n",
    "Test_Set_Imperfect_4_1_m_2000N = Test_Set_Imperfect_4_1_m_2000N.loc[:, ~Test_Set_Imperfect_4_1_m_2000N.columns.duplicated()]\n",
    "\n",
    "#Classify good nodes. This will be the 'y' for our model. \n",
    "Perfect_1_e_5000['Class'] = 0\n",
    "Perfect_1_e_2000['Class'] = 0\n",
    "Perfect_1_m_2000['Class'] = 0\n",
    "Perfect_2_o_e_2000['Class'] = 0\n",
    "Imperfect_1_1_e_2000['Class'] = 0\n",
    "Imperfect_1_1_e_5000['Class'] = 0\n",
    "Imperfect_1_2_o_e_2000['Class'] = 0\n",
    "Imperfect_2_1_e_2000['Class'] = 0\n",
    "Imperfect_2_1_e_5000['Class'] = 0\n",
    "Imperfect_2_2_o_e_2000['Class'] = 0\n",
    "Imperfect_3_1_e_2000['Class'] = 0\n",
    "Imperfect_3_1_e_5000['Class'] = 0\n",
    "Imperfect_3_2_o_e_2000['Class'] = 0 \n",
    "Imperfect_4_1_e_2000['Class'] = 0\n",
    "Imperfect_4_1_e_5000['Class'] = 0\n",
    "Imperfect_4_2_o_e_2000['Class'] = 0 \n",
    "Imperfect_5_1_e_2000['Class'] = 0\n",
    "Imperfect_5_1_e_5000['Class'] = 0\n",
    "Imperfect_5_2_o_e_2000['Class'] = 0\n",
    "Test_Set_Imperfect_4_1_m_2000N['Class'] = 0"
   ]
  },
  {
   "cell_type": "code",
   "execution_count": 7,
   "id": "acf3230b",
   "metadata": {},
   "outputs": [],
   "source": [
    "#Turn to arrays\n",
    "Perfect_1_e_5000_arr = Perfect_1_e_5000.to_numpy().astype(float)\n",
    "Perfect_1_e_2000_arr = Perfect_1_e_2000.to_numpy().astype(float)\n",
    "Perfect_1_m_2000_arr = Perfect_1_m_2000.to_numpy().astype(float)\n",
    "Perfect_2_o_e_2000_arr = Perfect_2_o_e_2000.to_numpy().astype(float)\n",
    "Imperfect_1_1_e_2000_arr = Imperfect_1_1_e_2000.to_numpy().astype(float)\n",
    "Imperfect_1_1_e_5000_arr = Imperfect_1_1_e_5000.to_numpy().astype(float)\n",
    "Imperfect_1_2_o_e_2000_arr = Imperfect_1_2_o_e_2000.to_numpy().astype(float)\n",
    "Imperfect_2_1_e_2000_arr = Imperfect_2_1_e_2000.to_numpy().astype(float)\n",
    "Imperfect_2_1_e_5000_arr = Imperfect_2_1_e_5000.to_numpy().astype(float)\n",
    "Imperfect_2_2_o_e_2000_arr = Imperfect_2_2_o_e_2000.to_numpy().astype(float)\n",
    "Imperfect_3_1_e_2000_arr = Imperfect_3_1_e_2000.to_numpy().astype(float)\n",
    "Imperfect_3_1_e_5000_arr = Imperfect_3_1_e_5000.to_numpy().astype(float)\n",
    "Imperfect_3_2_o_e_2000_arr = Imperfect_3_2_o_e_2000.to_numpy().astype(float)\n",
    "Imperfect_4_1_e_2000_arr = Imperfect_4_1_e_2000.to_numpy().astype(float)\n",
    "Imperfect_4_1_e_5000_arr = Imperfect_4_1_e_5000.to_numpy().astype(float)\n",
    "Imperfect_4_2_o_e_2000_arr = Imperfect_4_2_o_e_2000.to_numpy().astype(float)\n",
    "Imperfect_5_1_e_2000_arr = Imperfect_5_1_e_2000.to_numpy().astype(float)\n",
    "Imperfect_5_1_e_5000_arr = Imperfect_5_1_e_5000.to_numpy().astype(float)\n",
    "Imperfect_5_2_o_e_2000_arr = Imperfect_5_2_o_e_2000.to_numpy().astype(float)\n",
    "Test_Set_Imperfect_4_1_m_2000N_arr = Test_Set_Imperfect_4_1_m_2000N.to_numpy().astype(float)"
   ]
  },
  {
   "cell_type": "code",
   "execution_count": 8,
   "id": "685bd68c",
   "metadata": {},
   "outputs": [],
   "source": [
    "#Function to fill in missing nodes. This simulates faulty data in imperfect structures. \n",
    "def fill(x):\n",
    "    new_arr = np.zeros(shape=(29226, 80))\n",
    "    i = 0\n",
    "    for j in range(len(x)):\n",
    "        if x[j,0] == i+1:\n",
    "            new_arr[i] = x[j]\n",
    "            i = i+1\n",
    "        else:\n",
    "            while i < x[j,0]:\n",
    "                #Create a random array with values within the range of the x data.\n",
    "                ran_arr = (10**-5)*random.rand(78)\n",
    "                z = np.append(i+1, ran_arr)\n",
    "                #Adding a 1 to the last column of this new node will serve to classify it as imperfect.\n",
    "                new_arr[i] = np.append(z, 1)\n",
    "                i = i + 1\n",
    "    return new_arr\n",
    "\n",
    "#Classify and fill in imperfect arrays\n",
    "Imperfect_1_1_e_2000_arr_class = fill(Imperfect_1_1_e_2000_arr)\n",
    "Imperfect_1_1_e_5000_arr_class = fill(Imperfect_1_1_e_5000_arr)\n",
    "Imperfect_1_2_o_e_2000_arr_class = fill(Imperfect_1_2_o_e_2000_arr)\n",
    "Imperfect_2_1_e_2000_arr_class = fill(Imperfect_2_1_e_2000_arr)\n",
    "Imperfect_2_1_e_5000_arr_class = fill(Imperfect_2_1_e_5000_arr)\n",
    "Imperfect_2_2_o_e_2000_arr_class = fill(Imperfect_2_2_o_e_2000_arr)\n",
    "Imperfect_3_1_e_2000_arr_class = fill(Imperfect_3_1_e_2000_arr)\n",
    "Imperfect_3_1_e_5000_arr_class = fill(Imperfect_3_1_e_5000_arr)\n",
    "Imperfect_3_2_o_e_2000_arr_class = fill(Imperfect_3_2_o_e_2000_arr)\n",
    "Imperfect_4_1_e_2000_arr_class = fill(Imperfect_4_1_e_2000_arr)\n",
    "Imperfect_4_1_e_5000_arr_class = fill(Imperfect_4_1_e_5000_arr)\n",
    "Imperfect_4_2_o_e_2000_arr_class = fill(Imperfect_4_2_o_e_2000_arr)\n",
    "Imperfect_5_1_e_2000_arr_class = fill(Imperfect_5_1_e_2000_arr)\n",
    "Imperfect_5_1_e_5000_arr_class = fill(Imperfect_5_1_e_5000_arr)\n",
    "Imperfect_5_2_o_e_2000_arr_class = fill(Imperfect_5_2_o_e_2000_arr)\n",
    "Test_Set_Imperfect_4_1_m_2000N_arr_class = fill(Test_Set_Imperfect_4_1_m_2000N_arr)"
   ]
  },
  {
   "cell_type": "code",
   "execution_count": 9,
   "id": "c068bcc1",
   "metadata": {},
   "outputs": [],
   "source": [
    "#Create a big array with all the Data\n",
    "Perfect = np.vstack((Perfect_1_e_5000_arr, Perfect_1_e_2000_arr, Perfect_1_m_2000_arr, Perfect_2_o_e_2000_arr)).astype(float)\n",
    "Imperfect = np.vstack((Imperfect_1_1_e_2000_arr_class, Imperfect_1_1_e_5000_arr_class, Imperfect_1_2_o_e_2000_arr_class, Imperfect_2_1_e_2000_arr_class, Imperfect_2_1_e_5000_arr_class, Imperfect_2_2_o_e_2000_arr_class, Imperfect_3_1_e_2000_arr_class, Imperfect_3_1_e_5000_arr_class, Imperfect_3_2_o_e_2000_arr_class, Imperfect_4_1_e_2000_arr_class, Imperfect_4_1_e_5000_arr_class, Imperfect_4_2_o_e_2000_arr_class, Imperfect_5_1_e_2000_arr_class, Imperfect_5_1_e_5000_arr_class, Imperfect_5_2_o_e_2000_arr_class)).astype(float)\n",
    "#Big array does not include Test Set\n",
    "big_array = np.vstack((Perfect, Imperfect))"
   ]
  },
  {
   "cell_type": "markdown",
   "id": "b3fc15b6",
   "metadata": {},
   "source": [
    "Step 4: Visualizing the Data"
   ]
  },
  {
   "cell_type": "code",
   "execution_count": 65,
   "id": "695e95a1",
   "metadata": {},
   "outputs": [
    {
     "data": {
      "text/plain": [
       "Text(0.5, 1.0, 'Perfect Structure')"
      ]
     },
     "execution_count": 65,
     "metadata": {},
     "output_type": "execute_result"
    },
    {
     "data": {
      "image/png": "[encoded data removed]",
      "text/plain": [
       "<Figure size 640x480 with 1 Axes>"
      ]
     },
     "metadata": {},
     "output_type": "display_data"
    }
   ],
   "source": [
    "#Use a plot to confirm that random features are within range of perfect data\n",
    "#Use plot to select features that might be useful to identify imperfect nodes\n",
    "plt.scatter(Perfect_1_e_5000_arr[:,0], Perfect_1_e_5000_arr[:,64], color='green', marker='+')\n",
    "#plt.scatter(Imperfect_1_1_e_5000_arr_class[:,0], Imperfect_1_1_e_5000_arr_class[:,64], color='red', marker='.')\n",
    "plt.xlabel(\"Node Number\")\n",
    "plt.ylabel(\"Shear Stress (MPa)\")\n",
    "plt.title(\"Perfect Structure\")\n",
    "#plt.title(\"Imperfect Structure\")\n",
    "#We manually went through all features and found that columns 64, 65, 66, and 67 could be useful. These represent shear stress."
   ]
  },
  {
   "cell_type": "markdown",
   "id": "11740563",
   "metadata": {},
   "source": [
    "Step 6: Prepare Data for Training Model"
   ]
  },
  {
   "cell_type": "code",
   "execution_count": 47,
   "id": "1373a6f3",
   "metadata": {},
   "outputs": [],
   "source": [
    "#X will be our shear stress. Y will be our classification of the nodes.\n",
    "x_data = np.delete(big_array, [12,79], axis = 1)\n",
    "y_data = big_array[:,79]\n",
    "x_train, x_test, y_train, y_test = train_test_split(x_data, y_data, test_size = 0.20)\n",
    "\n",
    "#The following is the data from the test set which is not included in the train-test split\n",
    "x_test_2 = np.delete(Test_Set_Imperfect_4_1_m_2000N_arr_class, [12,79], axis = 1)\n",
    "y_test_2 = Test_Set_Imperfect_4_1_m_2000N_arr_class[:,79]"
   ]
  },
  {
   "cell_type": "code",
   "execution_count": 48,
   "id": "754a8f7a",
   "metadata": {},
   "outputs": [
    {
     "name": "stdout",
     "output_type": "stream",
     "text": [
      "(444235, 78)\n"
     ]
    }
   ],
   "source": [
    "print(x_train.shape)"
   ]
  },
  {
   "cell_type": "code",
   "execution_count": 49,
   "id": "dfc11744",
   "metadata": {},
   "outputs": [],
   "source": [
    "#Scale x data\n",
    "scaler = StandardScaler()\n",
    "x_train_scaled = scaler.fit_transform(x_train)\n",
    "x_test_scaled = scaler.transform(x_test)\n",
    "x_test_2_scaled = scaler.transform(x_test_2)"
   ]
  },
  {
   "cell_type": "markdown",
   "id": "b95af9c9",
   "metadata": {},
   "source": [
    "Step 7: Train Model"
   ]
  },
  {
   "cell_type": "code",
   "execution_count": 50,
   "id": "bcd7ce1b",
   "metadata": {},
   "outputs": [
    {
     "data": {
      "text/html": [
       "<style>#sk-container-id-2 {color: black;}#sk-container-id-2 pre{padding: 0;}#sk-container-id-2 div.sk-toggleable {background-color: white;}#sk-container-id-2 label.sk-toggleable__label {cursor: pointer;display: block;width: 100%;margin-bottom: 0;padding: 0.3em;box-sizing: border-box;text-align: center;}#sk-container-id-2 label.sk-toggleable__label-arrow:before {content: \"▸\";float: left;margin-right: 0.25em;color: #696969;}#sk-container-id-2 label.sk-toggleable__label-arrow:hover:before {color: black;}#sk-container-id-2 div.sk-estimator:hover label.sk-toggleable__label-arrow:before {color: black;}#sk-container-id-2 div.sk-toggleable__content {max-height: 0;max-width: 0;overflow: hidden;text-align: left;background-color: #f0f8ff;}#sk-container-id-2 div.sk-toggleable__content pre {margin: 0.2em;color: black;border-radius: 0.25em;background-color: #f0f8ff;}#sk-container-id-2 input.sk-toggleable__control:checked~div.sk-toggleable__content {max-height: 200px;max-width: 100%;overflow: auto;}#sk-container-id-2 input.sk-toggleable__control:checked~label.sk-toggleable__label-arrow:before {content: \"▾\";}#sk-container-id-2 div.sk-estimator input.sk-toggleable__control:checked~label.sk-toggleable__label {background-color: #d4ebff;}#sk-container-id-2 div.sk-label input.sk-toggleable__control:checked~label.sk-toggleable__label {background-color: #d4ebff;}#sk-container-id-2 input.sk-hidden--visually {border: 0;clip: rect(1px 1px 1px 1px);clip: rect(1px, 1px, 1px, 1px);height: 1px;margin: -1px;overflow: hidden;padding: 0;position: absolute;width: 1px;}#sk-container-id-2 div.sk-estimator {font-family: monospace;background-color: #f0f8ff;border: 1px dotted black;border-radius: 0.25em;box-sizing: border-box;margin-bottom: 0.5em;}#sk-container-id-2 div.sk-estimator:hover {background-color: #d4ebff;}#sk-container-id-2 div.sk-parallel-item::after {content: \"\";width: 100%;border-bottom: 1px solid gray;flex-grow: 1;}#sk-container-id-2 div.sk-label:hover label.sk-toggleable__label {background-color: #d4ebff;}#sk-container-id-2 div.sk-serial::before {content: \"\";position: absolute;border-left: 1px solid gray;box-sizing: border-box;top: 0;bottom: 0;left: 50%;z-index: 0;}#sk-container-id-2 div.sk-serial {display: flex;flex-direction: column;align-items: center;background-color: white;padding-right: 0.2em;padding-left: 0.2em;position: relative;}#sk-container-id-2 div.sk-item {position: relative;z-index: 1;}#sk-container-id-2 div.sk-parallel {display: flex;align-items: stretch;justify-content: center;background-color: white;position: relative;}#sk-container-id-2 div.sk-item::before, #sk-container-id-2 div.sk-parallel-item::before {content: \"\";position: absolute;border-left: 1px solid gray;box-sizing: border-box;top: 0;bottom: 0;left: 50%;z-index: -1;}#sk-container-id-2 div.sk-parallel-item {display: flex;flex-direction: column;z-index: 1;position: relative;background-color: white;}#sk-container-id-2 div.sk-parallel-item:first-child::after {align-self: flex-end;width: 50%;}#sk-container-id-2 div.sk-parallel-item:last-child::after {align-self: flex-start;width: 50%;}#sk-container-id-2 div.sk-parallel-item:only-child::after {width: 0;}#sk-container-id-2 div.sk-dashed-wrapped {border: 1px dashed gray;margin: 0 0.4em 0.5em 0.4em;box-sizing: border-box;padding-bottom: 0.4em;background-color: white;}#sk-container-id-2 div.sk-label label {font-family: monospace;font-weight: bold;display: inline-block;line-height: 1.2em;}#sk-container-id-2 div.sk-label-container {text-align: center;}#sk-container-id-2 div.sk-container {/* jupyter's `normalize.less` sets `[hidden] { display: none; }` but bootstrap.min.css set `[hidden] { display: none !important; }` so we also need the `!important` here to be able to override the default hidden behavior on the sphinx rendered scikit-learn.org. See: https://github.com/scikit-learn/scikit-learn/issues/21755 */display: inline-block !important;position: relative;}#sk-container-id-2 div.sk-text-repr-fallback {display: none;}</style><div id=\"sk-container-id-2\" class=\"sk-top-container\"><div class=\"sk-text-repr-fallback\"><pre>RandomForestClassifier()</pre><b>In a Jupyter environment, please rerun this cell to show the HTML representation or trust the notebook. <br />On GitHub, the HTML representation is unable to render, please try loading this page with nbviewer.org.</b></div><div class=\"sk-container\" hidden><div class=\"sk-item\"><div class=\"sk-estimator sk-toggleable\"><input class=\"sk-toggleable__control sk-hidden--visually\" id=\"sk-estimator-id-2\" type=\"checkbox\" checked><label for=\"sk-estimator-id-2\" class=\"sk-toggleable__label sk-toggleable__label-arrow\">RandomForestClassifier</label><div class=\"sk-toggleable__content\"><pre>RandomForestClassifier()</pre></div></div></div></div></div>"
      ],
      "text/plain": [
       "RandomForestClassifier()"
      ]
     },
     "execution_count": 50,
     "metadata": {},
     "output_type": "execute_result"
    }
   ],
   "source": [
    "rf = RandomForestClassifier()\n",
    "rf.fit(x_train_scaled, y_train)"
   ]
  },
  {
   "cell_type": "markdown",
   "id": "28e076da",
   "metadata": {},
   "source": [
    "Step 8: Evaluate Model"
   ]
  },
  {
   "cell_type": "code",
   "execution_count": 51,
   "id": "c1ec7bc4",
   "metadata": {},
   "outputs": [
    {
     "data": {
      "text/plain": [
       "1.0"
      ]
     },
     "execution_count": 51,
     "metadata": {},
     "output_type": "execute_result"
    }
   ],
   "source": [
    "#Find accuracy using data from train-test split\n",
    "rf.score(x_test_scaled, y_test)"
   ]
  },
  {
   "cell_type": "code",
   "execution_count": 52,
   "id": "31fa6359",
   "metadata": {},
   "outputs": [
    {
     "name": "stdout",
     "output_type": "stream",
     "text": [
      "1.0\n"
     ]
    }
   ],
   "source": [
    "#What is the model's prediction for the Test Set?\n",
    "y_pred = rf.predict(x_test_2_scaled)\n",
    "rf_fit = accuracy_score(y_test_2, y_pred)\n",
    "print(rf_fit)"
   ]
  },
  {
   "cell_type": "code",
   "execution_count": 53,
   "id": "59a9021c",
   "metadata": {},
   "outputs": [
    {
     "data": {
      "text/plain": [
       "[15798]"
      ]
     },
     "execution_count": 53,
     "metadata": {},
     "output_type": "execute_result"
    }
   ],
   "source": [
    "#Function to find missing sections of Test Set without using model\n",
    "def missing_node_array(x):\n",
    "    n = len(x)\n",
    "    miss = []\n",
    "    for i in range (n-1):\n",
    "        new_miss = x.iat[i+1, 0] - x.iat[i,0]\n",
    "        if new_miss > 1:\n",
    "            miss.append(x.iat[i, 0])\n",
    "    return miss\n",
    "\n",
    "#Where does the missing section of nodes begin in the Test Set\n",
    "missing_node_array(Test_Set_Imperfect_4_1_m_2000N)"
   ]
  },
  {
   "cell_type": "code",
   "execution_count": 54,
   "id": "c15f1e6c",
   "metadata": {},
   "outputs": [
    {
     "data": {
      "text/plain": [
       "265.0"
      ]
     },
     "execution_count": 54,
     "metadata": {},
     "output_type": "execute_result"
    }
   ],
   "source": [
    "#Actual amount of imperfect nodes in Test Set\n",
    "sum(y_test_2)"
   ]
  },
  {
   "cell_type": "code",
   "execution_count": 55,
   "id": "43c41661",
   "metadata": {},
   "outputs": [
    {
     "name": "stdout",
     "output_type": "stream",
     "text": [
      "(array([15798, 15799, 15800, 15801, 15802, 15803, 15804, 15805, 15806,\n",
      "       15807, 15808, 15809, 15810, 15811, 15812, 15813, 15814, 15815,\n",
      "       15816, 15817, 15818, 15819, 15820, 15821, 15822, 15823, 15824,\n",
      "       15825, 15826, 15827, 15828, 15829, 15830, 15831, 15832, 15833,\n",
      "       15834, 15835, 15836, 15837, 15838, 15839, 15840, 15841, 15842,\n",
      "       15843, 15844, 15845, 15846, 15847, 15848, 15849, 15850, 15851,\n",
      "       15852, 15853, 15854, 15855, 15856, 15857, 15858, 15859, 15860,\n",
      "       15861, 15862, 15863, 15864, 15865, 15866, 15867, 15868, 15869,\n",
      "       15870, 15871, 15872, 15873, 15874, 15875, 15876, 15877, 15878,\n",
      "       15879, 15880, 15881, 15882, 15883, 15884, 15885, 15886, 15887,\n",
      "       15888, 15889, 15890, 15891, 15892, 15893, 15894, 15895, 15896,\n",
      "       15897, 15898, 15899, 15900, 15901, 15902, 15903, 15904, 15905,\n",
      "       15906, 15907, 15908, 15909, 15910, 15911, 15912, 15913, 15914,\n",
      "       15915, 15916, 15917, 15918, 15919, 15920, 15921, 15922, 15923,\n",
      "       15924, 15925, 15926, 15927, 15928, 15929, 15930, 15931, 15932,\n",
      "       15933, 15934, 15935, 15936, 15937, 15938, 15939, 15940, 15941,\n",
      "       15942, 15943, 15944, 15945, 15946, 15947, 15948, 15949, 15950,\n",
      "       15951, 15952, 15953, 15954, 15955, 15956, 15957, 15958, 15959,\n",
      "       15960, 15961, 15962, 15963, 15964, 15965, 15966, 15967, 15968,\n",
      "       15969, 15970, 15971, 15972, 15973, 15974, 15975, 15976, 15977,\n",
      "       15978, 15979, 15980, 15981, 15982, 15983, 15984, 15985, 15986,\n",
      "       15987, 15988, 15989, 15990, 15991, 15992, 15993, 15994, 15995,\n",
      "       15996, 15997, 15998, 15999, 16000, 16001, 16002, 16003, 16004,\n",
      "       16005, 16006, 16007, 16008, 16009, 16010, 16011, 16012, 16013,\n",
      "       16014, 16015, 16016, 16017, 16018, 16019, 16020, 16021, 16022,\n",
      "       16023, 16024, 16025, 16026, 16027, 16028, 16029, 16030, 16031,\n",
      "       16032, 16033, 16034, 16035, 16036, 16037, 16038, 16039, 16040,\n",
      "       16041, 16042, 16043, 16044, 16045, 16046, 16047, 16048, 16049,\n",
      "       16050, 16051, 16052, 16053, 16054, 16055, 16056, 16057, 16058,\n",
      "       16059, 16060, 16061, 16062], dtype=int64),)\n"
     ]
    }
   ],
   "source": [
    "#Indices of imperfect nodes in Test Set according to model\n",
    "imp_nodes = np.where(y_pred == 1)\n",
    "print(imp_nodes)"
   ]
  },
  {
   "cell_type": "code",
   "execution_count": 56,
   "id": "5a8ecc54",
   "metadata": {},
   "outputs": [
    {
     "data": {
      "text/plain": [
       "265.0"
      ]
     },
     "execution_count": 56,
     "metadata": {},
     "output_type": "execute_result"
    }
   ],
   "source": [
    "#Amount of imperfect nodes in Test Set according to model\n",
    "sum(y_pred)"
   ]
  },
  {
   "cell_type": "code",
   "execution_count": null,
   "id": "66d49f52",
   "metadata": {},
   "outputs": [],
   "source": []
  },
  {
   "cell_type": "markdown",
   "id": "1a6f4897",
   "metadata": {},
   "source": [
    "## Using Deep Learning Model"
   ]
  },
  {
   "cell_type": "code",
   "execution_count": 57,
   "id": "b68e7a4b",
   "metadata": {},
   "outputs": [
    {
     "name": "stdout",
     "output_type": "stream",
     "text": [
      "Epoch 1/10\n",
      "2777/2777 - 20s - loss: 0.4686 - accuracy: 0.9872 - val_loss: 0.3806 - val_accuracy: 0.9890 - 20s/epoch - 7ms/step\n",
      "Epoch 2/10\n",
      "2777/2777 - 19s - loss: 0.3113 - accuracy: 0.9888 - val_loss: 0.2447 - val_accuracy: 0.9890 - 19s/epoch - 7ms/step\n",
      "Epoch 3/10\n",
      "2777/2777 - 19s - loss: 0.1899 - accuracy: 0.9888 - val_loss: 0.1407 - val_accuracy: 0.9890 - 19s/epoch - 7ms/step\n",
      "Epoch 4/10\n",
      "2777/2777 - 18s - loss: 0.1067 - accuracy: 0.9888 - val_loss: 0.0777 - val_accuracy: 0.9890 - 18s/epoch - 7ms/step\n",
      "Epoch 5/10\n",
      "2777/2777 - 19s - loss: 0.0597 - accuracy: 0.9888 - val_loss: 0.0431 - val_accuracy: 0.9912 - 19s/epoch - 7ms/step\n",
      "Epoch 6/10\n",
      "2777/2777 - 18s - loss: 0.0343 - accuracy: 0.9904 - val_loss: 0.0256 - val_accuracy: 0.9979 - 18s/epoch - 7ms/step\n",
      "Epoch 7/10\n",
      "2777/2777 - 19s - loss: 0.0217 - accuracy: 0.9950 - val_loss: 0.0174 - val_accuracy: 0.9984 - 19s/epoch - 7ms/step\n",
      "Epoch 8/10\n",
      "2777/2777 - 18s - loss: 0.0158 - accuracy: 0.9976 - val_loss: 0.0133 - val_accuracy: 0.9991 - 18s/epoch - 7ms/step\n",
      "Epoch 9/10\n",
      "2777/2777 - 18s - loss: 0.0125 - accuracy: 0.9986 - val_loss: 0.0108 - val_accuracy: 0.9994 - 18s/epoch - 7ms/step\n",
      "Epoch 10/10\n",
      "2777/2777 - 20s - loss: 0.0105 - accuracy: 0.9990 - val_loss: 0.0092 - val_accuracy: 0.9996 - 20s/epoch - 7ms/step\n"
     ]
    }
   ],
   "source": [
    "import matplotlib.pyplot as plt\n",
    "from sklearn.metrics import mean_squared_error, mean_absolute_error, r2_score, accuracy_score\n",
    "from keras.models import Sequential\n",
    "from keras.layers import Dense, Dropout\n",
    "from keras.regularizers import l2\n",
    "from keras.optimizers import Adam\n",
    "from keras.callbacks import EarlyStopping\n",
    "from keras.models import Sequential\n",
    "from keras.layers import Dense, Dropout, Input\n",
    "from keras.regularizers import l2\n",
    "from keras.optimizers import Adam\n",
    "from keras.callbacks import EarlyStopping\n",
    "from sklearn.metrics import accuracy_score\n",
    "\n",
    "\n",
    "model = Sequential([\n",
    "    Input(shape=(x_train_scaled.shape[1],)),\n",
    "    Dense(512, activation='relu', kernel_regularizer=l2(0.001)),\n",
    "    Dropout(0.4),\n",
    "    Dense(256, activation='relu' , kernel_regularizer=l2(0.001)),\n",
    "    Dropout(0.3),\n",
    "    Dense(128, activation='relu'),\n",
    "    Dense(64, activation='relu'),\n",
    "    Dense(32, activation='relu'),\n",
    "    Dense(1, activation='sigmoid')\n",
    "])\n",
    "\n",
    "# Compile the model\n",
    "optimizer = Adam(learning_rate=0.000005)\n",
    "model.compile(optimizer=optimizer, loss='mse', metrics=['accuracy'])\n",
    "\n",
    "# Early stopping\n",
    "early_stopping = EarlyStopping(monitor='val_loss', patience=10, restore_best_weights=True)\n",
    "\n",
    "# Step 6: Train the model\n",
    "history = model.fit(x_train_scaled, y_train, epochs=10, batch_size=128, validation_split=0.2, verbose=2, callbacks=[early_stopping])"
   ]
  },
  {
   "cell_type": "code",
   "execution_count": 58,
   "id": "834e73ff",
   "metadata": {},
   "outputs": [
    {
     "data": {
      "image/png": "[encoded data removed]",
      "text/plain": [
       "<Figure size 640x480 with 1 Axes>"
      ]
     },
     "metadata": {},
     "output_type": "display_data"
    }
   ],
   "source": [
    "import matplotlib.pyplot as plt\n",
    "from sklearn.metrics import mean_squared_error, mean_absolute_error, r2_score, accuracy_score\n",
    "from keras.models import Sequential\n",
    "from keras.layers import Dense, Dropout\n",
    "from keras.regularizers import l2\n",
    "from keras.optimizers import Adam\n",
    "from keras.callbacks import EarlyStopping\n",
    "\n",
    "# Plot loss vs. epoch\n",
    "plt.plot(history.history['loss'], label='Training Loss')\n",
    "plt.plot(history.history['val_loss'], label='Validation Loss')\n",
    "plt.title('Training and Validation Loss')\n",
    "plt.xlabel('Epoch')\n",
    "plt.ylabel('Loss')\n",
    "plt.legend()\n",
    "plt.show()"
   ]
  },
  {
   "cell_type": "code",
   "execution_count": 59,
   "id": "e683d70e",
   "metadata": {},
   "outputs": [
    {
     "name": "stdout",
     "output_type": "stream",
     "text": [
      "3471/3471 [==============================] - 9s 2ms/step\n"
     ]
    },
    {
     "data": {
      "image/png": "[encoded data removed]",
      "text/plain": [
       "<Figure size 800x600 with 2 Axes>"
      ]
     },
     "metadata": {},
     "output_type": "display_data"
    },
    {
     "name": "stdout",
     "output_type": "stream",
     "text": [
      "[[109886      2]\n",
      " [    40   1131]]\n"
     ]
    }
   ],
   "source": [
    "from sklearn.metrics import confusion_matrix\n",
    "import seaborn as sns\n",
    "\n",
    "y_pred_proba = model.predict(x_test_scaled)\n",
    "y_pred_nn = (y_pred_proba > 0.5).astype(int)\n",
    "\n",
    "# Generate and visualize the confusion matrix\n",
    "cm = confusion_matrix(y_test, y_pred_nn)\n",
    "plt.figure(figsize=(8, 6))\n",
    "sns.heatmap(cm, annot=True, fmt='d', cmap='Blues')\n",
    "plt.title('Confusion Matrix')\n",
    "plt.xlabel('Predicted Labels')\n",
    "plt.ylabel('True Labels')\n",
    "plt.show()\n",
    "\n",
    "# Print the confusion matrix\n",
    "print(cm)\n"
   ]
  },
  {
   "cell_type": "code",
   "execution_count": 60,
   "id": "1d6e0bac",
   "metadata": {},
   "outputs": [
    {
     "name": "stdout",
     "output_type": "stream",
     "text": [
      "914/914 [==============================] - 2s 3ms/step\n",
      "Test Accuracy: 0.9991103811674537\n"
     ]
    }
   ],
   "source": [
    "#model.save('my_model.h5')  # Creates a HDF5 file 'my_model.h5'\n",
    "\n",
    "# Make predictions on the test set\n",
    "y_pred_proba_2 = model.predict(x_test_2_scaled)\n",
    "y_pred_nn_2 = (y_pred_proba_2 > 0.5).astype(int)\n",
    "\n",
    "# Calculate the accuracy on the test set\n",
    "test_accuracy = accuracy_score(y_test_2, y_pred_nn_2)\n",
    "print(f\"Test Accuracy: {test_accuracy}\")"
   ]
  },
  {
   "cell_type": "code",
   "execution_count": 61,
   "id": "dbe6e3c6",
   "metadata": {},
   "outputs": [
    {
     "name": "stdout",
     "output_type": "stream",
     "text": [
      "(array([ 1969,  1976,  1977,  1978,  2137,  2138, 15799, 15800, 15801,\n",
      "       15802, 15803, 15804, 15805, 15806, 15807, 15808, 15809, 15810,\n",
      "       15811, 15812, 15813, 15814, 15815, 15816, 15817, 15818, 15819,\n",
      "       15820, 15821, 15822, 15823, 15824, 15825, 15826, 15827, 15828,\n",
      "       15829, 15830, 15831, 15832, 15833, 15834, 15835, 15836, 15838,\n",
      "       15839, 15840, 15841, 15842, 15843, 15844, 15846, 15847, 15848,\n",
      "       15849, 15850, 15851, 15852, 15853, 15854, 15855, 15856, 15857,\n",
      "       15858, 15859, 15860, 15861, 15862, 15863, 15864, 15865, 15866,\n",
      "       15867, 15868, 15870, 15871, 15872, 15873, 15874, 15875, 15877,\n",
      "       15878, 15879, 15880, 15881, 15882, 15883, 15884, 15885, 15886,\n",
      "       15887, 15888, 15889, 15890, 15891, 15892, 15893, 15894, 15895,\n",
      "       15896, 15897, 15898, 15899, 15900, 15901, 15902, 15903, 15904,\n",
      "       15905, 15906, 15907, 15908, 15909, 15910, 15911, 15912, 15913,\n",
      "       15914, 15915, 15916, 15917, 15918, 15919, 15920, 15921, 15922,\n",
      "       15923, 15924, 15925, 15926, 15927, 15928, 15930, 15931, 15932,\n",
      "       15934, 15935, 15936, 15937, 15938, 15939, 15940, 15941, 15942,\n",
      "       15943, 15944, 15945, 15946, 15947, 15948, 15949, 15951, 15952,\n",
      "       15953, 15954, 15955, 15956, 15957, 15958, 15959, 15960, 15961,\n",
      "       15962, 15963, 15964, 15965, 15966, 15967, 15968, 15969, 15970,\n",
      "       15972, 15973, 15974, 15975, 15977, 15978, 15979, 15980, 15981,\n",
      "       15982, 15984, 15987, 15988, 15989, 15991, 15992, 15993, 15994,\n",
      "       15995, 15996, 15997, 15998, 15999, 16000, 16001, 16002, 16003,\n",
      "       16005, 16006, 16007, 16008, 16009, 16010, 16011, 16012, 16014,\n",
      "       16015, 16016, 16017, 16018, 16019, 16020, 16021, 16022, 16023,\n",
      "       16024, 16025, 16026, 16027, 16028, 16029, 16030, 16031, 16032,\n",
      "       16033, 16034, 16035, 16036, 16037, 16038, 16039, 16040, 16041,\n",
      "       16043, 16044, 16045, 16048, 16049, 16050, 16051, 16053, 16054,\n",
      "       16055, 16056, 16057, 16058, 16059, 16060, 16061, 16062],\n",
      "      dtype=int64), array([0, 0, 0, 0, 0, 0, 0, 0, 0, 0, 0, 0, 0, 0, 0, 0, 0, 0, 0, 0, 0, 0,\n",
      "       0, 0, 0, 0, 0, 0, 0, 0, 0, 0, 0, 0, 0, 0, 0, 0, 0, 0, 0, 0, 0, 0,\n",
      "       0, 0, 0, 0, 0, 0, 0, 0, 0, 0, 0, 0, 0, 0, 0, 0, 0, 0, 0, 0, 0, 0,\n",
      "       0, 0, 0, 0, 0, 0, 0, 0, 0, 0, 0, 0, 0, 0, 0, 0, 0, 0, 0, 0, 0, 0,\n",
      "       0, 0, 0, 0, 0, 0, 0, 0, 0, 0, 0, 0, 0, 0, 0, 0, 0, 0, 0, 0, 0, 0,\n",
      "       0, 0, 0, 0, 0, 0, 0, 0, 0, 0, 0, 0, 0, 0, 0, 0, 0, 0, 0, 0, 0, 0,\n",
      "       0, 0, 0, 0, 0, 0, 0, 0, 0, 0, 0, 0, 0, 0, 0, 0, 0, 0, 0, 0, 0, 0,\n",
      "       0, 0, 0, 0, 0, 0, 0, 0, 0, 0, 0, 0, 0, 0, 0, 0, 0, 0, 0, 0, 0, 0,\n",
      "       0, 0, 0, 0, 0, 0, 0, 0, 0, 0, 0, 0, 0, 0, 0, 0, 0, 0, 0, 0, 0, 0,\n",
      "       0, 0, 0, 0, 0, 0, 0, 0, 0, 0, 0, 0, 0, 0, 0, 0, 0, 0, 0, 0, 0, 0,\n",
      "       0, 0, 0, 0, 0, 0, 0, 0, 0, 0, 0, 0, 0, 0, 0, 0, 0, 0, 0, 0, 0, 0,\n",
      "       0, 0, 0, 0, 0, 0, 0, 0, 0], dtype=int64))\n"
     ]
    }
   ],
   "source": [
    "missing_nodes = np.where(y_pred_nn_2 == 1)\n",
    "print(missing_nodes)"
   ]
  },
  {
   "cell_type": "code",
   "execution_count": 62,
   "id": "74cfd7fe",
   "metadata": {},
   "outputs": [
    {
     "data": {
      "image/png": "[encoded data removed]",
      "text/plain": [
       "<Figure size 800x600 with 2 Axes>"
      ]
     },
     "metadata": {},
     "output_type": "display_data"
    },
    {
     "name": "stdout",
     "output_type": "stream",
     "text": [
      "[[28955     6]\n",
      " [   20   245]]\n"
     ]
    }
   ],
   "source": [
    "from sklearn.metrics import confusion_matrix\n",
    "import seaborn as sns\n",
    "\n",
    "# Generate and visualize the confusion matrix\n",
    "cm = confusion_matrix(y_test_2, y_pred_nn_2)\n",
    "plt.figure(figsize=(8, 6))\n",
    "sns.heatmap(cm, annot=True, fmt='d', cmap='Blues')\n",
    "plt.title('Confusion Matrix')\n",
    "plt.xlabel('Predicted Labels')\n",
    "plt.ylabel('True Labels')\n",
    "plt.show()\n",
    "\n",
    "# Print the confusion matrix\n",
    "print(cm)\n"
   ]
  },
  {
   "cell_type": "code",
   "execution_count": null,
   "id": "4b984805",
   "metadata": {},
   "outputs": [],
   "source": []
  },
  {
   "cell_type": "code",
   "execution_count": null,
   "id": "8ffad7d7",
   "metadata": {},
   "outputs": [],
   "source": []
  }
 ],
 "metadata": {
  "kernelspec": {
   "display_name": "Python 3 (ipykernel)",
   "language": "python",
   "name": "python3"
  },
  "language_info": {
   "codemirror_mode": {
    "name": "ipython",
    "version": 3
   },
   "file_extension": ".py",
   "mimetype": "text/x-python",
   "name": "python",
   "nbconvert_exporter": "python",
   "pygments_lexer": "ipython3",
   "version": "3.8.18"
  }
 },
 "nbformat": 4,
 "nbformat_minor": 5
}
